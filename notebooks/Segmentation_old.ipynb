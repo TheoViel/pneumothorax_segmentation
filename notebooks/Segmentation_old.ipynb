{
 "cells": [
  {
   "cell_type": "code",
   "execution_count": 4,
   "metadata": {
    "scrolled": true
   },
   "outputs": [
    {
     "name": "stdout",
     "output_type": "stream",
     "text": [
      "The autoreload extension is already loaded. To reload it, use:\n",
      "  %reload_ext autoreload\n",
      "The nb_black extension is already loaded. To reload it, use:\n",
      "  %reload_ext nb_black\n"
     ]
    },
    {
     "data": {
      "application/javascript": [
       "\n",
       "            setTimeout(function() {\n",
       "                var nbb_cell_id = 4;\n",
       "                var nbb_unformatted_code = \"%load_ext autoreload\\n%load_ext nb_black\\n%autoreload 2\";\n",
       "                var nbb_formatted_code = \"%load_ext autoreload\\n%load_ext nb_black\\n%autoreload 2\";\n",
       "                var nbb_cells = Jupyter.notebook.get_cells();\n",
       "                for (var i = 0; i < nbb_cells.length; ++i) {\n",
       "                    if (nbb_cells[i].input_prompt_number == nbb_cell_id) {\n",
       "                        if (nbb_cells[i].get_text() == nbb_unformatted_code) {\n",
       "                             nbb_cells[i].set_text(nbb_formatted_code);\n",
       "                        }\n",
       "                        break;\n",
       "                    }\n",
       "                }\n",
       "            }, 500);\n",
       "            "
      ],
      "text/plain": [
       "<IPython.core.display.Javascript object>"
      ]
     },
     "metadata": {},
     "output_type": "display_data"
    }
   ],
   "source": [
    "%load_ext autoreload\n",
    "%load_ext nb_black\n",
    "%autoreload 2"
   ]
  },
  {
   "cell_type": "markdown",
   "metadata": {},
   "source": [
    "# Imports"
   ]
  },
  {
   "cell_type": "code",
   "execution_count": 5,
   "metadata": {},
   "outputs": [
    {
     "data": {
      "application/javascript": [
       "\n",
       "            setTimeout(function() {\n",
       "                var nbb_cell_id = 5;\n",
       "                var nbb_unformatted_code = \"!cd ../src\";\n",
       "                var nbb_formatted_code = \"!cd ../src\";\n",
       "                var nbb_cells = Jupyter.notebook.get_cells();\n",
       "                for (var i = 0; i < nbb_cells.length; ++i) {\n",
       "                    if (nbb_cells[i].input_prompt_number == nbb_cell_id) {\n",
       "                        if (nbb_cells[i].get_text() == nbb_unformatted_code) {\n",
       "                             nbb_cells[i].set_text(nbb_formatted_code);\n",
       "                        }\n",
       "                        break;\n",
       "                    }\n",
       "                }\n",
       "            }, 500);\n",
       "            "
      ],
      "text/plain": [
       "<IPython.core.display.Javascript object>"
      ]
     },
     "metadata": {},
     "output_type": "display_data"
    }
   ],
   "source": [
    "!cd ../src"
   ]
  },
  {
   "cell_type": "code",
   "execution_count": 6,
   "metadata": {
    "_cell_guid": "79c7e3d0-c299-4dcb-8224-4455121ee9b0",
    "_kg_hide-input": true,
    "_uuid": "d629ff2d2480ee46fbb7e2d37f6b5fab8052498a"
   },
   "outputs": [
    {
     "data": {
      "application/javascript": [
       "\n",
       "            setTimeout(function() {\n",
       "                var nbb_cell_id = 6;\n",
       "                var nbb_unformatted_code = \"from util import *\\nfrom metric import *\\nfrom params import *\\nfrom imports import *\\nfrom post_process import *\";\n",
       "                var nbb_formatted_code = \"from util import *\\nfrom metric import *\\nfrom params import *\\nfrom imports import *\\nfrom post_process import *\";\n",
       "                var nbb_cells = Jupyter.notebook.get_cells();\n",
       "                for (var i = 0; i < nbb_cells.length; ++i) {\n",
       "                    if (nbb_cells[i].input_prompt_number == nbb_cell_id) {\n",
       "                        if (nbb_cells[i].get_text() == nbb_unformatted_code) {\n",
       "                             nbb_cells[i].set_text(nbb_formatted_code);\n",
       "                        }\n",
       "                        break;\n",
       "                    }\n",
       "                }\n",
       "            }, 500);\n",
       "            "
      ],
      "text/plain": [
       "<IPython.core.display.Javascript object>"
      ]
     },
     "metadata": {},
     "output_type": "display_data"
    }
   ],
   "source": [
    "from util import *\n",
    "from metric import *\n",
    "from params import *\n",
    "from imports import *\n",
    "from post_process import *"
   ]
  },
  {
   "cell_type": "code",
   "execution_count": 7,
   "metadata": {},
   "outputs": [
    {
     "data": {
      "application/javascript": [
       "\n",
       "            setTimeout(function() {\n",
       "                var nbb_cell_id = 7;\n",
       "                var nbb_unformatted_code = \"from data.masks import *\\nfrom data.dataset import *\\nfrom data.transforms import *\\nfrom data.transforms import get_transforms as transfos\";\n",
       "                var nbb_formatted_code = \"from data.masks import *\\nfrom data.dataset import *\\nfrom data.transforms import *\\nfrom data.transforms import get_transforms as transfos\";\n",
       "                var nbb_cells = Jupyter.notebook.get_cells();\n",
       "                for (var i = 0; i < nbb_cells.length; ++i) {\n",
       "                    if (nbb_cells[i].input_prompt_number == nbb_cell_id) {\n",
       "                        if (nbb_cells[i].get_text() == nbb_unformatted_code) {\n",
       "                             nbb_cells[i].set_text(nbb_formatted_code);\n",
       "                        }\n",
       "                        break;\n",
       "                    }\n",
       "                }\n",
       "            }, 500);\n",
       "            "
      ],
      "text/plain": [
       "<IPython.core.display.Javascript object>"
      ]
     },
     "metadata": {},
     "output_type": "display_data"
    }
   ],
   "source": [
    "from data.masks import *\n",
    "from data.dataset import *\n",
    "from data.transforms import *\n",
    "from data.transforms import get_transforms as transfos"
   ]
  },
  {
   "cell_type": "code",
   "execution_count": 8,
   "metadata": {},
   "outputs": [
    {
     "data": {
      "application/javascript": [
       "\n",
       "            setTimeout(function() {\n",
       "                var nbb_cell_id = 8;\n",
       "                var nbb_unformatted_code = \"from training.train import *\\nfrom training.freezing import *\\nfrom training.predicting import *\";\n",
       "                var nbb_formatted_code = \"from training.train import *\\nfrom training.freezing import *\\nfrom training.predicting import *\";\n",
       "                var nbb_cells = Jupyter.notebook.get_cells();\n",
       "                for (var i = 0; i < nbb_cells.length; ++i) {\n",
       "                    if (nbb_cells[i].input_prompt_number == nbb_cell_id) {\n",
       "                        if (nbb_cells[i].get_text() == nbb_unformatted_code) {\n",
       "                             nbb_cells[i].set_text(nbb_formatted_code);\n",
       "                        }\n",
       "                        break;\n",
       "                    }\n",
       "                }\n",
       "            }, 500);\n",
       "            "
      ],
      "text/plain": [
       "<IPython.core.display.Javascript object>"
      ]
     },
     "metadata": {},
     "output_type": "display_data"
    }
   ],
   "source": [
    "from training.train import *\n",
    "from training.freezing import *\n",
    "from training.predicting import *"
   ]
  },
  {
   "cell_type": "code",
   "execution_count": 9,
   "metadata": {},
   "outputs": [
    {
     "data": {
      "application/javascript": [
       "\n",
       "            setTimeout(function() {\n",
       "                var nbb_cell_id = 9;\n",
       "                var nbb_unformatted_code = \"from model_zoo.unet import *\";\n",
       "                var nbb_formatted_code = \"from model_zoo.unet import *\";\n",
       "                var nbb_cells = Jupyter.notebook.get_cells();\n",
       "                for (var i = 0; i < nbb_cells.length; ++i) {\n",
       "                    if (nbb_cells[i].input_prompt_number == nbb_cell_id) {\n",
       "                        if (nbb_cells[i].get_text() == nbb_unformatted_code) {\n",
       "                             nbb_cells[i].set_text(nbb_formatted_code);\n",
       "                        }\n",
       "                        break;\n",
       "                    }\n",
       "                }\n",
       "            }, 500);\n",
       "            "
      ],
      "text/plain": [
       "<IPython.core.display.Javascript object>"
      ]
     },
     "metadata": {},
     "output_type": "display_data"
    }
   ],
   "source": [
    "from model_zoo.unet import *"
   ]
  },
  {
   "cell_type": "code",
   "execution_count": 10,
   "metadata": {},
   "outputs": [
    {
     "name": "stdout",
     "output_type": "stream",
     "text": [
      "Number of available cores : 4\n"
     ]
    },
    {
     "data": {
      "application/javascript": [
       "\n",
       "            setTimeout(function() {\n",
       "                var nbb_cell_id = 10;\n",
       "                var nbb_unformatted_code = \"from tqdm import tqdm_notebook as tqdm\\n\\nsns.set_style('white')\\nKERNEL_START_TIME = time.time()\\nwarnings.simplefilter(action='ignore', category=UserWarning)\\nwarnings.simplefilter(action='ignore', category=FutureWarning)\\n# warnings.simplefilter(action='ignore', category=RuntimeWarning)\\nprint('Number of available cores :', multiprocessing.cpu_count())\";\n",
       "                var nbb_formatted_code = \"from tqdm import tqdm_notebook as tqdm\\n\\nsns.set_style(\\\"white\\\")\\nKERNEL_START_TIME = time.time()\\nwarnings.simplefilter(action=\\\"ignore\\\", category=UserWarning)\\nwarnings.simplefilter(action=\\\"ignore\\\", category=FutureWarning)\\n# warnings.simplefilter(action='ignore', category=RuntimeWarning)\\nprint(\\\"Number of available cores :\\\", multiprocessing.cpu_count())\";\n",
       "                var nbb_cells = Jupyter.notebook.get_cells();\n",
       "                for (var i = 0; i < nbb_cells.length; ++i) {\n",
       "                    if (nbb_cells[i].input_prompt_number == nbb_cell_id) {\n",
       "                        if (nbb_cells[i].get_text() == nbb_unformatted_code) {\n",
       "                             nbb_cells[i].set_text(nbb_formatted_code);\n",
       "                        }\n",
       "                        break;\n",
       "                    }\n",
       "                }\n",
       "            }, 500);\n",
       "            "
      ],
      "text/plain": [
       "<IPython.core.display.Javascript object>"
      ]
     },
     "metadata": {},
     "output_type": "display_data"
    }
   ],
   "source": [
    "from tqdm import tqdm_notebook as tqdm\n",
    "\n",
    "sns.set_style(\"white\")\n",
    "KERNEL_START_TIME = time.time()\n",
    "warnings.simplefilter(action=\"ignore\", category=UserWarning)\n",
    "warnings.simplefilter(action=\"ignore\", category=FutureWarning)\n",
    "# warnings.simplefilter(action='ignore', category=RuntimeWarning)\n",
    "print(\"Number of available cores :\", multiprocessing.cpu_count())"
   ]
  },
  {
   "cell_type": "code",
   "execution_count": 11,
   "metadata": {},
   "outputs": [
    {
     "data": {
      "application/javascript": [
       "\n",
       "            setTimeout(function() {\n",
       "                var nbb_cell_id = 11;\n",
       "                var nbb_unformatted_code = \"seed_everything(seed)\";\n",
       "                var nbb_formatted_code = \"seed_everything(seed)\";\n",
       "                var nbb_cells = Jupyter.notebook.get_cells();\n",
       "                for (var i = 0; i < nbb_cells.length; ++i) {\n",
       "                    if (nbb_cells[i].input_prompt_number == nbb_cell_id) {\n",
       "                        if (nbb_cells[i].get_text() == nbb_unformatted_code) {\n",
       "                             nbb_cells[i].set_text(nbb_formatted_code);\n",
       "                        }\n",
       "                        break;\n",
       "                    }\n",
       "                }\n",
       "            }, 500);\n",
       "            "
      ],
      "text/plain": [
       "<IPython.core.display.Javascript object>"
      ]
     },
     "metadata": {},
     "output_type": "display_data"
    }
   ],
   "source": [
    "seed_everything(seed)"
   ]
  },
  {
   "cell_type": "markdown",
   "metadata": {},
   "source": [
    "# Data"
   ]
  },
  {
   "cell_type": "code",
   "execution_count": 12,
   "metadata": {},
   "outputs": [
    {
     "data": {
      "application/javascript": [
       "\n",
       "            setTimeout(function() {\n",
       "                var nbb_cell_id = 12;\n",
       "                var nbb_unformatted_code = \"df = pd.read_csv('../output/df_train.csv')\";\n",
       "                var nbb_formatted_code = \"df = pd.read_csv(\\\"../output/df_train.csv\\\")\";\n",
       "                var nbb_cells = Jupyter.notebook.get_cells();\n",
       "                for (var i = 0; i < nbb_cells.length; ++i) {\n",
       "                    if (nbb_cells[i].input_prompt_number == nbb_cell_id) {\n",
       "                        if (nbb_cells[i].get_text() == nbb_unformatted_code) {\n",
       "                             nbb_cells[i].set_text(nbb_formatted_code);\n",
       "                        }\n",
       "                        break;\n",
       "                    }\n",
       "                }\n",
       "            }, 500);\n",
       "            "
      ],
      "text/plain": [
       "<IPython.core.display.Javascript object>"
      ]
     },
     "metadata": {},
     "output_type": "display_data"
    }
   ],
   "source": [
    "df = pd.read_csv(\"../output/df_train.csv\")"
   ]
  },
  {
   "cell_type": "code",
   "execution_count": 13,
   "metadata": {},
   "outputs": [
    {
     "data": {
      "application/javascript": [
       "\n",
       "            setTimeout(function() {\n",
       "                var nbb_cell_id = 13;\n",
       "                var nbb_unformatted_code = \"ratio = 4\";\n",
       "                var nbb_formatted_code = \"ratio = 4\";\n",
       "                var nbb_cells = Jupyter.notebook.get_cells();\n",
       "                for (var i = 0; i < nbb_cells.length; ++i) {\n",
       "                    if (nbb_cells[i].input_prompt_number == nbb_cell_id) {\n",
       "                        if (nbb_cells[i].get_text() == nbb_unformatted_code) {\n",
       "                             nbb_cells[i].set_text(nbb_formatted_code);\n",
       "                        }\n",
       "                        break;\n",
       "                    }\n",
       "                }\n",
       "            }, 500);\n",
       "            "
      ],
      "text/plain": [
       "<IPython.core.display.Javascript object>"
      ]
     },
     "metadata": {},
     "output_type": "display_data"
    }
   ],
   "source": [
    "ratio = 4"
   ]
  },
  {
   "cell_type": "markdown",
   "metadata": {},
   "source": [
    "### Balance"
   ]
  },
  {
   "cell_type": "code",
   "execution_count": 15,
   "metadata": {},
   "outputs": [
    {
     "data": {
      "image/png": "[encoded data removed]",
      "text/plain": [
       "<Figure size 432x288 with 1 Axes>"
      ]
     },
     "metadata": {},
     "output_type": "display_data"
    },
    {
     "data": {
      "application/javascript": [
       "\n",
       "            setTimeout(function() {\n",
       "                var nbb_cell_id = 15;\n",
       "                var nbb_unformatted_code = \"sns.countplot(df[\\\"has_pneumothorax\\\"])\\nplt.show()\";\n",
       "                var nbb_formatted_code = \"sns.countplot(df[\\\"has_pneumothorax\\\"])\\nplt.show()\";\n",
       "                var nbb_cells = Jupyter.notebook.get_cells();\n",
       "                for (var i = 0; i < nbb_cells.length; ++i) {\n",
       "                    if (nbb_cells[i].input_prompt_number == nbb_cell_id) {\n",
       "                        if (nbb_cells[i].get_text() == nbb_unformatted_code) {\n",
       "                             nbb_cells[i].set_text(nbb_formatted_code);\n",
       "                        }\n",
       "                        break;\n",
       "                    }\n",
       "                }\n",
       "            }, 500);\n",
       "            "
      ],
      "text/plain": [
       "<IPython.core.display.Javascript object>"
      ]
     },
     "metadata": {},
     "output_type": "display_data"
    }
   ],
   "source": [
    "sns.countplot(df[\"has_pneumothorax\"])\n",
    "plt.show()"
   ]
  },
  {
   "cell_type": "code",
   "execution_count": 16,
   "metadata": {},
   "outputs": [
    {
     "data": {
      "application/javascript": [
       "\n",
       "            setTimeout(function() {\n",
       "                var nbb_cell_id = 16;\n",
       "                var nbb_unformatted_code = \"count_pos = len(df[df[\\\"has_pneumothorax\\\"]==1])\\ncount_neg = len(df[df[\\\"has_pneumothorax\\\"]==0])\\n\\nidx_drop = np.random.choice(df[df[\\\"has_pneumothorax\\\"]==0].index, count_neg - count_pos, replace=False)\\ndf.drop(idx_drop, inplace=True, axis=0)\";\n",
       "                var nbb_formatted_code = \"count_pos = len(df[df[\\\"has_pneumothorax\\\"] == 1])\\ncount_neg = len(df[df[\\\"has_pneumothorax\\\"] == 0])\\n\\nidx_drop = np.random.choice(\\n    df[df[\\\"has_pneumothorax\\\"] == 0].index, count_neg - count_pos, replace=False\\n)\\ndf.drop(idx_drop, inplace=True, axis=0)\";\n",
       "                var nbb_cells = Jupyter.notebook.get_cells();\n",
       "                for (var i = 0; i < nbb_cells.length; ++i) {\n",
       "                    if (nbb_cells[i].input_prompt_number == nbb_cell_id) {\n",
       "                        if (nbb_cells[i].get_text() == nbb_unformatted_code) {\n",
       "                             nbb_cells[i].set_text(nbb_formatted_code);\n",
       "                        }\n",
       "                        break;\n",
       "                    }\n",
       "                }\n",
       "            }, 500);\n",
       "            "
      ],
      "text/plain": [
       "<IPython.core.display.Javascript object>"
      ]
     },
     "metadata": {},
     "output_type": "display_data"
    }
   ],
   "source": [
    "count_pos = len(df[df[\"has_pneumothorax\"] == 1])\n",
    "count_neg = len(df[df[\"has_pneumothorax\"] == 0])\n",
    "\n",
    "idx_drop = np.random.choice(\n",
    "    df[df[\"has_pneumothorax\"] == 0].index, count_neg - count_pos, replace=False\n",
    ")\n",
    "df.drop(idx_drop, inplace=True, axis=0)"
   ]
  },
  {
   "cell_type": "code",
   "execution_count": 17,
   "metadata": {},
   "outputs": [
    {
     "data": {
      "image/png": "[encoded data removed]",
      "text/plain": [
       "<Figure size 432x288 with 1 Axes>"
      ]
     },
     "metadata": {},
     "output_type": "display_data"
    },
    {
     "data": {
      "application/javascript": [
       "\n",
       "            setTimeout(function() {\n",
       "                var nbb_cell_id = 17;\n",
       "                var nbb_unformatted_code = \"sns.countplot(df['has_pneumothorax'])\\nplt.show()\";\n",
       "                var nbb_formatted_code = \"sns.countplot(df[\\\"has_pneumothorax\\\"])\\nplt.show()\";\n",
       "                var nbb_cells = Jupyter.notebook.get_cells();\n",
       "                for (var i = 0; i < nbb_cells.length; ++i) {\n",
       "                    if (nbb_cells[i].input_prompt_number == nbb_cell_id) {\n",
       "                        if (nbb_cells[i].get_text() == nbb_unformatted_code) {\n",
       "                             nbb_cells[i].set_text(nbb_formatted_code);\n",
       "                        }\n",
       "                        break;\n",
       "                    }\n",
       "                }\n",
       "            }, 500);\n",
       "            "
      ],
      "text/plain": [
       "<IPython.core.display.Javascript object>"
      ]
     },
     "metadata": {},
     "output_type": "display_data"
    }
   ],
   "source": [
    "sns.countplot(df[\"has_pneumothorax\"])\n",
    "plt.show()"
   ]
  },
  {
   "cell_type": "markdown",
   "metadata": {},
   "source": [
    "## Training"
   ]
  },
  {
   "cell_type": "code",
   "execution_count": 18,
   "metadata": {},
   "outputs": [
    {
     "data": {
      "application/javascript": [
       "\n",
       "            setTimeout(function() {\n",
       "                var nbb_cell_id = 18;\n",
       "                var nbb_unformatted_code = \"def fit_seg(\\n    model,\\n    model_shadow,\\n    train_dataset,\\n    val_dataset,\\n    epochs=50,\\n    batch_size=32,\\n    use_aux_clf=False,\\n    acc_steps=1,\\n    warmup_prop=0.1,\\n    lr=1e-3,\\n    schedule=\\\"cosine\\\",\\n    min_lr=1e-5,\\n    use_ema=False,\\n    ema_decay=0.99,\\n    verbose=1,\\n    verbose_eval=10,\\n    cp=False,\\n    model_name=\\\"model\\\",\\n):\\n\\n    best_dice = 0\\n    avg_val_loss = 1000\\n    lr_init = lr\\n\\n    params = list(model.named_parameters())\\n    no_decay = [\\\"bias\\\", \\\"LayerNorm.bias\\\", \\\"LayerNorm.weight\\\"]\\n    encoder_params = [\\n        (n, p)\\n        for n, p in params\\n        if any(nd in n for nd in [\\\"encoder\\\", \\\"logit\\\", \\\"center\\\"])\\n    ]\\n    opt_params = [\\n        {\\n            \\\"params\\\": [\\n                p for n, p in encoder_params if not any(nd in n for nd in no_decay)\\n            ],\\n            \\\"weight_decay\\\": 1e-4,\\n        },\\n        {\\n            \\\"params\\\": [\\n                p\\n                for n, p in params\\n                if not any(nd in n for nd in no_decay) and \\\"decoder\\\" in n\\n            ],\\n            \\\"weight_decay\\\": 1e-2,\\n        },\\n        {\\n            \\\"params\\\": [p for n, p in params if any(nd in n for nd in no_decay)],\\n            \\\"weight_decay\\\": 0.0,\\n        },\\n    ]\\n\\n    optimizer = RAdam(opt_params, lr=lr)\\n    #     optimizer = Adam(filter(lambda p: p.requires_grad, model.parameters()), lr=lr)\\n\\n    if schedule == \\\"cosine\\\":\\n        scheduler = CosineAnnealingLR(\\n            optimizer, T_max=epochs - ceil(epochs * warmup_prop), eta_min=min_lr\\n        )\\n    elif schedule == \\\"reduce_lr\\\":\\n        scheduler = ReduceLROnPlateau(\\n            optimizer, factor=0.1, patience=ceil(5 / verbose_eval) - 1\\n        )\\n\\n    loss_seg = BCEWithLogitsLoss(reduction=\\\"mean\\\")  # lov_loss\\n    loss_clf = BCEWithLogitsLoss(reduction=\\\"mean\\\")\\n    loss_clf_w = 0.1\\n\\n    train_loader = torch.utils.data.DataLoader(\\n        train_dataset,\\n        batch_size=batch_size,\\n        shuffle=True,\\n        drop_last=True,\\n        num_workers=NUM_WORKERS,\\n    )\\n    val_loader = torch.utils.data.DataLoader(\\n        val_dataset, batch_size=VAL_BS, shuffle=False, num_workers=NUM_WORKERS\\n    )\\n\\n    for epoch in range(epochs):\\n        model.train()\\n        if use_ema:\\n            model_shadow.train()\\n\\n        if batch_size < 4:\\n            model.apply(freeze_bn)\\n\\n        avg_loss = 0\\n        start_time = time.time()\\n\\n        lr = schedule_lr(\\n            optimizer,\\n            epoch,\\n            scheduler,\\n            scheduler_name=schedule,\\n            avg_val_loss=avg_val_loss,\\n            epochs=epochs,\\n            warmup_prop=warmup_prop,\\n            lr_init=lr_init,\\n            min_lr=min_lr,\\n            verbose_eval=verbose_eval,\\n        )\\n\\n        optimizer.zero_grad()\\n\\n        for step, (x, mask, y) in enumerate(train_loader):\\n\\n            mask_pred, y_pred = model(x.cuda())\\n\\n            loss = loss_seg(mask_pred, mask.cuda())\\n            if use_aux_clf:\\n                loss += loss_clf(y_pred, y.cuda().float()) * loss_clf_w\\n\\n            loss.backward()\\n            avg_loss += loss.item() / len(train_loader)\\n\\n            if step % acc_steps == 0:\\n                optimizer.step()\\n                optimizer.zero_grad()\\n\\n                if use_ema:\\n                    update_average(model_shadow, model, decay=ema_decay)\\n\\n        model.eval()\\n        if use_ema:\\n            model_shadow.eval()\\n\\n        avg_val_loss = 0.0\\n        val_dice = 0.0\\n        val_acc = 0.0\\n\\n        if (epoch + 1) % verbose_eval == 0 or (epoch + 1) == epochs:\\n            with torch.no_grad():\\n                for x, mask, y in val_loader:\\n                    if use_ema:\\n                        mask_pred, y_pred = model_shadow(x.cuda())\\n                    else:\\n                        mask_pred, y_pred = model(x.cuda())\\n\\n                    loss = loss_seg(mask_pred.detach(), mask.cuda())\\n                    if use_aux_clf:\\n                        loss += loss_clf(y_pred.detach(), y.cuda().float()) * loss_clf_w\\n\\n                    avg_val_loss += loss.item() / len(val_loader)\\n                    mask_pred = torch.sigmoid(mask_pred.detach())\\n                    y_pred = torch.sigmoid(y_pred.detach())\\n\\n                    val_acc += accuracy_score(y_pred.detach().cpu() > 0.5, y) / len(\\n                        val_loader\\n                    )\\n                    val_dice += dice_th(mask_pred.contiguous().cpu(), mask) / len(\\n                        val_loader\\n                    )\\n\\n            if val_dice > best_dice and cp:\\n                save_model_weights(model, f\\\"{model_name}_cp.pt\\\", verbose=0)\\n                if use_ema:\\n                    save_model_weights(\\n                        model_shadow, f\\\"{model_name}_shadow_cp.pt\\\", verbose=0\\n                    )\\n                best_dice = val_dice\\n\\n        elapsed_time = time.time() - start_time\\n\\n        if (epoch + 1) % verbose == 0:\\n            elapsed_time = elapsed_time * verbose\\n            print(\\n                f\\\"Epoch {epoch + 1}/{epochs}   lr={lr:.1e}   t={elapsed_time:.0f}s   loss={avg_loss:.3f}   \\\",\\n                end=\\\"\\\",\\n            )\\n            if verbose_eval and (\\n                (epoch + 1) % verbose_eval == 0 or (epoch + 1) == epochs\\n            ):\\n                print(\\n                    f\\\"dice={val_dice:.3f}   val_loss={avg_val_loss:.3f}   val_acc={val_acc:.3f}\\\"\\n                )\\n            else:\\n                print(\\\" \\\", end=\\\"\\\\n\\\")\\n\\n    del mask_pred, y_pred, train_loader, val_loader\\n    torch.cuda.empty_cache()\\n    gc.collect()\";\n",
       "                var nbb_formatted_code = \"def fit_seg(\\n    model,\\n    model_shadow,\\n    train_dataset,\\n    val_dataset,\\n    epochs=50,\\n    batch_size=32,\\n    use_aux_clf=False,\\n    acc_steps=1,\\n    warmup_prop=0.1,\\n    lr=1e-3,\\n    schedule=\\\"cosine\\\",\\n    min_lr=1e-5,\\n    use_ema=False,\\n    ema_decay=0.99,\\n    verbose=1,\\n    verbose_eval=10,\\n    cp=False,\\n    model_name=\\\"model\\\",\\n):\\n\\n    best_dice = 0\\n    avg_val_loss = 1000\\n    lr_init = lr\\n\\n    params = list(model.named_parameters())\\n    no_decay = [\\\"bias\\\", \\\"LayerNorm.bias\\\", \\\"LayerNorm.weight\\\"]\\n    encoder_params = [\\n        (n, p)\\n        for n, p in params\\n        if any(nd in n for nd in [\\\"encoder\\\", \\\"logit\\\", \\\"center\\\"])\\n    ]\\n    opt_params = [\\n        {\\n            \\\"params\\\": [\\n                p for n, p in encoder_params if not any(nd in n for nd in no_decay)\\n            ],\\n            \\\"weight_decay\\\": 1e-4,\\n        },\\n        {\\n            \\\"params\\\": [\\n                p\\n                for n, p in params\\n                if not any(nd in n for nd in no_decay) and \\\"decoder\\\" in n\\n            ],\\n            \\\"weight_decay\\\": 1e-2,\\n        },\\n        {\\n            \\\"params\\\": [p for n, p in params if any(nd in n for nd in no_decay)],\\n            \\\"weight_decay\\\": 0.0,\\n        },\\n    ]\\n\\n    optimizer = RAdam(opt_params, lr=lr)\\n    #     optimizer = Adam(filter(lambda p: p.requires_grad, model.parameters()), lr=lr)\\n\\n    if schedule == \\\"cosine\\\":\\n        scheduler = CosineAnnealingLR(\\n            optimizer, T_max=epochs - ceil(epochs * warmup_prop), eta_min=min_lr\\n        )\\n    elif schedule == \\\"reduce_lr\\\":\\n        scheduler = ReduceLROnPlateau(\\n            optimizer, factor=0.1, patience=ceil(5 / verbose_eval) - 1\\n        )\\n\\n    loss_seg = BCEWithLogitsLoss(reduction=\\\"mean\\\")  # lov_loss\\n    loss_clf = BCEWithLogitsLoss(reduction=\\\"mean\\\")\\n    loss_clf_w = 0.1\\n\\n    train_loader = torch.utils.data.DataLoader(\\n        train_dataset,\\n        batch_size=batch_size,\\n        shuffle=True,\\n        drop_last=True,\\n        num_workers=NUM_WORKERS,\\n    )\\n    val_loader = torch.utils.data.DataLoader(\\n        val_dataset, batch_size=VAL_BS, shuffle=False, num_workers=NUM_WORKERS\\n    )\\n\\n    for epoch in range(epochs):\\n        model.train()\\n        if use_ema:\\n            model_shadow.train()\\n\\n        if batch_size < 4:\\n            model.apply(freeze_bn)\\n\\n        avg_loss = 0\\n        start_time = time.time()\\n\\n        lr = schedule_lr(\\n            optimizer,\\n            epoch,\\n            scheduler,\\n            scheduler_name=schedule,\\n            avg_val_loss=avg_val_loss,\\n            epochs=epochs,\\n            warmup_prop=warmup_prop,\\n            lr_init=lr_init,\\n            min_lr=min_lr,\\n            verbose_eval=verbose_eval,\\n        )\\n\\n        optimizer.zero_grad()\\n\\n        for step, (x, mask, y) in enumerate(train_loader):\\n\\n            mask_pred, y_pred = model(x.cuda())\\n\\n            loss = loss_seg(mask_pred, mask.cuda())\\n            if use_aux_clf:\\n                loss += loss_clf(y_pred, y.cuda().float()) * loss_clf_w\\n\\n            loss.backward()\\n            avg_loss += loss.item() / len(train_loader)\\n\\n            if step % acc_steps == 0:\\n                optimizer.step()\\n                optimizer.zero_grad()\\n\\n                if use_ema:\\n                    update_average(model_shadow, model, decay=ema_decay)\\n\\n        model.eval()\\n        if use_ema:\\n            model_shadow.eval()\\n\\n        avg_val_loss = 0.0\\n        val_dice = 0.0\\n        val_acc = 0.0\\n\\n        if (epoch + 1) % verbose_eval == 0 or (epoch + 1) == epochs:\\n            with torch.no_grad():\\n                for x, mask, y in val_loader:\\n                    if use_ema:\\n                        mask_pred, y_pred = model_shadow(x.cuda())\\n                    else:\\n                        mask_pred, y_pred = model(x.cuda())\\n\\n                    loss = loss_seg(mask_pred.detach(), mask.cuda())\\n                    if use_aux_clf:\\n                        loss += loss_clf(y_pred.detach(), y.cuda().float()) * loss_clf_w\\n\\n                    avg_val_loss += loss.item() / len(val_loader)\\n                    mask_pred = torch.sigmoid(mask_pred.detach())\\n                    y_pred = torch.sigmoid(y_pred.detach())\\n\\n                    val_acc += accuracy_score(y_pred.detach().cpu() > 0.5, y) / len(\\n                        val_loader\\n                    )\\n                    val_dice += dice_th(mask_pred.contiguous().cpu(), mask) / len(\\n                        val_loader\\n                    )\\n\\n            if val_dice > best_dice and cp:\\n                save_model_weights(model, f\\\"{model_name}_cp.pt\\\", verbose=0)\\n                if use_ema:\\n                    save_model_weights(\\n                        model_shadow, f\\\"{model_name}_shadow_cp.pt\\\", verbose=0\\n                    )\\n                best_dice = val_dice\\n\\n        elapsed_time = time.time() - start_time\\n\\n        if (epoch + 1) % verbose == 0:\\n            elapsed_time = elapsed_time * verbose\\n            print(\\n                f\\\"Epoch {epoch + 1}/{epochs}   lr={lr:.1e}   t={elapsed_time:.0f}s   loss={avg_loss:.3f}   \\\",\\n                end=\\\"\\\",\\n            )\\n            if verbose_eval and (\\n                (epoch + 1) % verbose_eval == 0 or (epoch + 1) == epochs\\n            ):\\n                print(\\n                    f\\\"dice={val_dice:.3f}   val_loss={avg_val_loss:.3f}   val_acc={val_acc:.3f}\\\"\\n                )\\n            else:\\n                print(\\\" \\\", end=\\\"\\\\n\\\")\\n\\n    del mask_pred, y_pred, train_loader, val_loader\\n    torch.cuda.empty_cache()\\n    gc.collect()\";\n",
       "                var nbb_cells = Jupyter.notebook.get_cells();\n",
       "                for (var i = 0; i < nbb_cells.length; ++i) {\n",
       "                    if (nbb_cells[i].input_prompt_number == nbb_cell_id) {\n",
       "                        if (nbb_cells[i].get_text() == nbb_unformatted_code) {\n",
       "                             nbb_cells[i].set_text(nbb_formatted_code);\n",
       "                        }\n",
       "                        break;\n",
       "                    }\n",
       "                }\n",
       "            }, 500);\n",
       "            "
      ],
      "text/plain": [
       "<IPython.core.display.Javascript object>"
      ]
     },
     "metadata": {},
     "output_type": "display_data"
    }
   ],
   "source": [
    "def fit_seg(\n",
    "    model,\n",
    "    model_shadow,\n",
    "    train_dataset,\n",
    "    val_dataset,\n",
    "    epochs=50,\n",
    "    batch_size=32,\n",
    "    use_aux_clf=False,\n",
    "    acc_steps=1,\n",
    "    warmup_prop=0.1,\n",
    "    lr=1e-3,\n",
    "    schedule=\"cosine\",\n",
    "    min_lr=1e-5,\n",
    "    use_ema=False,\n",
    "    ema_decay=0.99,\n",
    "    verbose=1,\n",
    "    verbose_eval=10,\n",
    "    cp=False,\n",
    "    model_name=\"model\",\n",
    "):\n",
    "\n",
    "    best_dice = 0\n",
    "    avg_val_loss = 1000\n",
    "    lr_init = lr\n",
    "\n",
    "    params = list(model.named_parameters())\n",
    "    no_decay = [\"bias\", \"LayerNorm.bias\", \"LayerNorm.weight\"]\n",
    "    encoder_params = [\n",
    "        (n, p)\n",
    "        for n, p in params\n",
    "        if any(nd in n for nd in [\"encoder\", \"logit\", \"center\"])\n",
    "    ]\n",
    "    opt_params = [\n",
    "        {\n",
    "            \"params\": [\n",
    "                p for n, p in encoder_params if not any(nd in n for nd in no_decay)\n",
    "            ],\n",
    "            \"weight_decay\": 1e-4,\n",
    "        },\n",
    "        {\n",
    "            \"params\": [\n",
    "                p\n",
    "                for n, p in params\n",
    "                if not any(nd in n for nd in no_decay) and \"decoder\" in n\n",
    "            ],\n",
    "            \"weight_decay\": 1e-2,\n",
    "        },\n",
    "        {\n",
    "            \"params\": [p for n, p in params if any(nd in n for nd in no_decay)],\n",
    "            \"weight_decay\": 0.0,\n",
    "        },\n",
    "    ]\n",
    "\n",
    "    optimizer = RAdam(opt_params, lr=lr)\n",
    "    #     optimizer = Adam(filter(lambda p: p.requires_grad, model.parameters()), lr=lr)\n",
    "\n",
    "    if schedule == \"cosine\":\n",
    "        scheduler = CosineAnnealingLR(\n",
    "            optimizer, T_max=epochs - ceil(epochs * warmup_prop), eta_min=min_lr\n",
    "        )\n",
    "    elif schedule == \"reduce_lr\":\n",
    "        scheduler = ReduceLROnPlateau(\n",
    "            optimizer, factor=0.1, patience=ceil(5 / verbose_eval) - 1\n",
    "        )\n",
    "\n",
    "    loss_seg = BCEWithLogitsLoss(reduction=\"mean\")  # lov_loss\n",
    "    loss_clf = BCEWithLogitsLoss(reduction=\"mean\")\n",
    "    loss_clf_w = 0.1\n",
    "\n",
    "    train_loader = torch.utils.data.DataLoader(\n",
    "        train_dataset,\n",
    "        batch_size=batch_size,\n",
    "        shuffle=True,\n",
    "        drop_last=True,\n",
    "        num_workers=NUM_WORKERS,\n",
    "    )\n",
    "    val_loader = torch.utils.data.DataLoader(\n",
    "        val_dataset, batch_size=VAL_BS, shuffle=False, num_workers=NUM_WORKERS\n",
    "    )\n",
    "\n",
    "    for epoch in range(epochs):\n",
    "        model.train()\n",
    "        if use_ema:\n",
    "            model_shadow.train()\n",
    "\n",
    "        if batch_size < 4:\n",
    "            model.apply(freeze_bn)\n",
    "\n",
    "        avg_loss = 0\n",
    "        start_time = time.time()\n",
    "\n",
    "        lr = schedule_lr(\n",
    "            optimizer,\n",
    "            epoch,\n",
    "            scheduler,\n",
    "            scheduler_name=schedule,\n",
    "            avg_val_loss=avg_val_loss,\n",
    "            epochs=epochs,\n",
    "            warmup_prop=warmup_prop,\n",
    "            lr_init=lr_init,\n",
    "            min_lr=min_lr,\n",
    "            verbose_eval=verbose_eval,\n",
    "        )\n",
    "\n",
    "        optimizer.zero_grad()\n",
    "\n",
    "        for step, (x, mask, y) in enumerate(train_loader):\n",
    "\n",
    "            mask_pred, y_pred = model(x.cuda())\n",
    "\n",
    "            loss = loss_seg(mask_pred, mask.cuda())\n",
    "            if use_aux_clf:\n",
    "                loss += loss_clf(y_pred, y.cuda().float()) * loss_clf_w\n",
    "\n",
    "            loss.backward()\n",
    "            avg_loss += loss.item() / len(train_loader)\n",
    "\n",
    "            if step % acc_steps == 0:\n",
    "                optimizer.step()\n",
    "                optimizer.zero_grad()\n",
    "\n",
    "                if use_ema:\n",
    "                    update_average(model_shadow, model, decay=ema_decay)\n",
    "\n",
    "        model.eval()\n",
    "        if use_ema:\n",
    "            model_shadow.eval()\n",
    "\n",
    "        avg_val_loss = 0.0\n",
    "        val_dice = 0.0\n",
    "        val_acc = 0.0\n",
    "\n",
    "        if (epoch + 1) % verbose_eval == 0 or (epoch + 1) == epochs:\n",
    "            with torch.no_grad():\n",
    "                for x, mask, y in val_loader:\n",
    "                    if use_ema:\n",
    "                        mask_pred, y_pred = model_shadow(x.cuda())\n",
    "                    else:\n",
    "                        mask_pred, y_pred = model(x.cuda())\n",
    "\n",
    "                    loss = loss_seg(mask_pred.detach(), mask.cuda())\n",
    "                    if use_aux_clf:\n",
    "                        loss += loss_clf(y_pred.detach(), y.cuda().float()) * loss_clf_w\n",
    "\n",
    "                    avg_val_loss += loss.item() / len(val_loader)\n",
    "                    mask_pred = torch.sigmoid(mask_pred.detach())\n",
    "                    y_pred = torch.sigmoid(y_pred.detach())\n",
    "\n",
    "                    val_acc += accuracy_score(y_pred.detach().cpu() > 0.5, y) / len(\n",
    "                        val_loader\n",
    "                    )\n",
    "                    val_dice += dice_th(mask_pred.contiguous().cpu(), mask) / len(\n",
    "                        val_loader\n",
    "                    )\n",
    "\n",
    "            if val_dice > best_dice and cp:\n",
    "                save_model_weights(model, f\"{model_name}_cp.pt\", verbose=0)\n",
    "                if use_ema:\n",
    "                    save_model_weights(\n",
    "                        model_shadow, f\"{model_name}_shadow_cp.pt\", verbose=0\n",
    "                    )\n",
    "                best_dice = val_dice\n",
    "\n",
    "        elapsed_time = time.time() - start_time\n",
    "\n",
    "        if (epoch + 1) % verbose == 0:\n",
    "            elapsed_time = elapsed_time * verbose\n",
    "            print(\n",
    "                f\"Epoch {epoch + 1}/{epochs}   lr={lr:.1e}   t={elapsed_time:.0f}s   loss={avg_loss:.3f}   \",\n",
    "                end=\"\",\n",
    "            )\n",
    "            if verbose_eval and (\n",
    "                (epoch + 1) % verbose_eval == 0 or (epoch + 1) == epochs\n",
    "            ):\n",
    "                print(\n",
    "                    f\"dice={val_dice:.3f}   val_loss={avg_val_loss:.3f}   val_acc={val_acc:.3f}\"\n",
    "                )\n",
    "            else:\n",
    "                print(\" \", end=\"\\n\")\n",
    "\n",
    "    del mask_pred, y_pred, train_loader, val_loader\n",
    "    torch.cuda.empty_cache()\n",
    "    gc.collect()"
   ]
  },
  {
   "cell_type": "code",
   "execution_count": 19,
   "metadata": {},
   "outputs": [
    {
     "data": {
      "application/javascript": [
       "\n",
       "            setTimeout(function() {\n",
       "                var nbb_cell_id = 19;\n",
       "                var nbb_unformatted_code = \"def model_training(\\n    backbone, df_train, df_val, ratio=4, use_ema=False, seed=2019, save=True, cp=False, **hparams\\n):\\n    seed_everything(seed)\\n\\n    model = SegmentationUnet(\\n        SETTINGS[backbone], num_classes=1, center_block=\\\"aspp\\\", aux_clf=True\\n    ).cuda()\\n\\n    train_dataset = PneumoDataset(df_train, transforms=get_transfos(), ratio=ratio)\\n    val_dataset = PneumoDataset(df_val, transforms=None, ratio=ratio)\\n\\n    freeze_encoder(model)\\n    n_parameters = count_parameters(model)\\n    print(\\n        f\\\"\\\\n - Training with frozen encoder \\\\n\\\\t -> {n_parameters} trainable parameters\\\\n\\\"\\n    )\\n\\n    fit_seg(\\n        model,\\n        _,\\n        train_dataset,\\n        val_dataset,\\n        epochs=hparams[\\\"epoch_frozen\\\"],\\n        batch_size=hparams[\\\"batch_size\\\"],\\n        lr=hparams[\\\"lr_frozen\\\"],\\n        min_lr=hparams[\\\"lr_min_frozen\\\"],\\n        schedule=\\\"cosine\\\",\\n        use_aux_clf=True,\\n        use_ema=False,\\n        warmup_prop=0,\\n        acc_steps=1,\\n        verbose=1,\\n        verbose_eval=1,\\n    )\\n\\n    unfreeze_encoder(model)\\n    n_parameters = count_parameters(model)\\n    print(f\\\"\\\\n - Training full model \\\\n\\\\t -> {n_parameters} trainable parameters\\\\n\\\")\\n\\n    if use_ema:\\n        model_shadow = SegmentationUnet(\\n            SETTINGS[backbone], num_classes=4, center_block=\\\"aspp\\\", aux_clf=use_aux_clf\\n        ).cuda()\\n        update_average(model_shadow, model, decay=0)\\n    else:\\n        model_shadow = _\\n\\n    fit_seg(\\n        model,\\n        model_shadow,\\n        train_dataset,\\n        val_dataset,\\n        epochs=hparams[\\\"epoch\\\"],\\n        batch_size=32,\\n        lr=hparams[\\\"lr\\\"],\\n        min_lr=hparams[\\\"lr_min\\\"],\\n        schedule=\\\"cosine\\\",\\n        use_aux_clf=True,\\n        use_ema=use_ema,\\n        ema_decay=0.99,\\n        warmup_prop=0,\\n        acc_steps=1,\\n        verbose=1,\\n        verbose_eval=1,\\n    )\\n\\n    if save:\\n        save_model_weights(model, f\\\"unet_{backbone}_{i + 1}_1.pt\\\", verbose=1)\\n        if use_ema:\\n            save_model_weights(\\n                model_shadow, f\\\"unet_{backbone}_shadow_{i + 1}_1.pt\\\", verbose=0\\n            )\";\n",
       "                var nbb_formatted_code = \"def model_training(\\n    backbone,\\n    df_train,\\n    df_val,\\n    ratio=4,\\n    use_ema=False,\\n    seed=2019,\\n    save=True,\\n    cp=False,\\n    **hparams,\\n):\\n    seed_everything(seed)\\n\\n    model = SegmentationUnet(\\n        SETTINGS[backbone], num_classes=1, center_block=\\\"aspp\\\", aux_clf=True\\n    ).cuda()\\n\\n    train_dataset = PneumoDataset(df_train, transforms=get_transfos(), ratio=ratio)\\n    val_dataset = PneumoDataset(df_val, transforms=None, ratio=ratio)\\n\\n    freeze_encoder(model)\\n    n_parameters = count_parameters(model)\\n    print(\\n        f\\\"\\\\n - Training with frozen encoder \\\\n\\\\t -> {n_parameters} trainable parameters\\\\n\\\"\\n    )\\n\\n    fit_seg(\\n        model,\\n        _,\\n        train_dataset,\\n        val_dataset,\\n        epochs=hparams[\\\"epoch_frozen\\\"],\\n        batch_size=hparams[\\\"batch_size\\\"],\\n        lr=hparams[\\\"lr_frozen\\\"],\\n        min_lr=hparams[\\\"lr_min_frozen\\\"],\\n        schedule=\\\"cosine\\\",\\n        use_aux_clf=True,\\n        use_ema=False,\\n        warmup_prop=0,\\n        acc_steps=1,\\n        verbose=1,\\n        verbose_eval=1,\\n    )\\n\\n    unfreeze_encoder(model)\\n    n_parameters = count_parameters(model)\\n    print(f\\\"\\\\n - Training full model \\\\n\\\\t -> {n_parameters} trainable parameters\\\\n\\\")\\n\\n    if use_ema:\\n        model_shadow = SegmentationUnet(\\n            SETTINGS[backbone], num_classes=4, center_block=\\\"aspp\\\", aux_clf=use_aux_clf\\n        ).cuda()\\n        update_average(model_shadow, model, decay=0)\\n    else:\\n        model_shadow = _\\n\\n    fit_seg(\\n        model,\\n        model_shadow,\\n        train_dataset,\\n        val_dataset,\\n        epochs=hparams[\\\"epoch\\\"],\\n        batch_size=32,\\n        lr=hparams[\\\"lr\\\"],\\n        min_lr=hparams[\\\"lr_min\\\"],\\n        schedule=\\\"cosine\\\",\\n        use_aux_clf=True,\\n        use_ema=use_ema,\\n        ema_decay=0.99,\\n        warmup_prop=0,\\n        acc_steps=1,\\n        verbose=1,\\n        verbose_eval=1,\\n    )\\n\\n    if save:\\n        save_model_weights(model, f\\\"unet_{backbone}_{i + 1}_1.pt\\\", verbose=1)\\n        if use_ema:\\n            save_model_weights(\\n                model_shadow, f\\\"unet_{backbone}_shadow_{i + 1}_1.pt\\\", verbose=0\\n            )\";\n",
       "                var nbb_cells = Jupyter.notebook.get_cells();\n",
       "                for (var i = 0; i < nbb_cells.length; ++i) {\n",
       "                    if (nbb_cells[i].input_prompt_number == nbb_cell_id) {\n",
       "                        if (nbb_cells[i].get_text() == nbb_unformatted_code) {\n",
       "                             nbb_cells[i].set_text(nbb_formatted_code);\n",
       "                        }\n",
       "                        break;\n",
       "                    }\n",
       "                }\n",
       "            }, 500);\n",
       "            "
      ],
      "text/plain": [
       "<IPython.core.display.Javascript object>"
      ]
     },
     "metadata": {},
     "output_type": "display_data"
    }
   ],
   "source": [
    "def model_training(\n",
    "    backbone,\n",
    "    df_train,\n",
    "    df_val,\n",
    "    ratio=4,\n",
    "    use_ema=False,\n",
    "    seed=2019,\n",
    "    save=True,\n",
    "    cp=False,\n",
    "    **hparams,\n",
    "):\n",
    "    seed_everything(seed)\n",
    "\n",
    "    model = SegmentationUnet(\n",
    "        SETTINGS[backbone], num_classes=1, center_block=\"aspp\", aux_clf=True\n",
    "    ).cuda()\n",
    "\n",
    "    train_dataset = PneumoDataset(df_train, transforms=get_transfos(), ratio=ratio)\n",
    "    val_dataset = PneumoDataset(df_val, transforms=None, ratio=ratio)\n",
    "\n",
    "    freeze_encoder(model)\n",
    "    n_parameters = count_parameters(model)\n",
    "    print(\n",
    "        f\"\\n - Training with frozen encoder \\n\\t -> {n_parameters} trainable parameters\\n\"\n",
    "    )\n",
    "\n",
    "    fit_seg(\n",
    "        model,\n",
    "        _,\n",
    "        train_dataset,\n",
    "        val_dataset,\n",
    "        epochs=hparams[\"epoch_frozen\"],\n",
    "        batch_size=hparams[\"batch_size\"],\n",
    "        lr=hparams[\"lr_frozen\"],\n",
    "        min_lr=hparams[\"lr_min_frozen\"],\n",
    "        schedule=\"cosine\",\n",
    "        use_aux_clf=True,\n",
    "        use_ema=False,\n",
    "        warmup_prop=0,\n",
    "        acc_steps=1,\n",
    "        verbose=1,\n",
    "        verbose_eval=1,\n",
    "    )\n",
    "\n",
    "    unfreeze_encoder(model)\n",
    "    n_parameters = count_parameters(model)\n",
    "    print(f\"\\n - Training full model \\n\\t -> {n_parameters} trainable parameters\\n\")\n",
    "\n",
    "    if use_ema:\n",
    "        model_shadow = SegmentationUnet(\n",
    "            SETTINGS[backbone], num_classes=4, center_block=\"aspp\", aux_clf=use_aux_clf\n",
    "        ).cuda()\n",
    "        update_average(model_shadow, model, decay=0)\n",
    "    else:\n",
    "        model_shadow = _\n",
    "\n",
    "    fit_seg(\n",
    "        model,\n",
    "        model_shadow,\n",
    "        train_dataset,\n",
    "        val_dataset,\n",
    "        epochs=hparams[\"epoch\"],\n",
    "        batch_size=32,\n",
    "        lr=hparams[\"lr\"],\n",
    "        min_lr=hparams[\"lr_min\"],\n",
    "        schedule=\"cosine\",\n",
    "        use_aux_clf=True,\n",
    "        use_ema=use_ema,\n",
    "        ema_decay=0.99,\n",
    "        warmup_prop=0,\n",
    "        acc_steps=1,\n",
    "        verbose=1,\n",
    "        verbose_eval=1,\n",
    "    )\n",
    "\n",
    "    if save:\n",
    "        save_model_weights(model, f\"unet_{backbone}_{i + 1}_1.pt\", verbose=1)\n",
    "        if use_ema:\n",
    "            save_model_weights(\n",
    "                model_shadow, f\"unet_{backbone}_shadow_{i + 1}_1.pt\", verbose=0\n",
    "            )"
   ]
  },
  {
   "cell_type": "markdown",
   "metadata": {},
   "source": [
    "# Training"
   ]
  },
  {
   "cell_type": "code",
   "execution_count": 20,
   "metadata": {},
   "outputs": [
    {
     "data": {
      "application/javascript": [
       "\n",
       "            setTimeout(function() {\n",
       "                var nbb_cell_id = 20;\n",
       "                var nbb_unformatted_code = \"backbone = \\\"resnet34\\\"\";\n",
       "                var nbb_formatted_code = \"backbone = \\\"resnet34\\\"\";\n",
       "                var nbb_cells = Jupyter.notebook.get_cells();\n",
       "                for (var i = 0; i < nbb_cells.length; ++i) {\n",
       "                    if (nbb_cells[i].input_prompt_number == nbb_cell_id) {\n",
       "                        if (nbb_cells[i].get_text() == nbb_unformatted_code) {\n",
       "                             nbb_cells[i].set_text(nbb_formatted_code);\n",
       "                        }\n",
       "                        break;\n",
       "                    }\n",
       "                }\n",
       "            }, 500);\n",
       "            "
      ],
      "text/plain": [
       "<IPython.core.display.Javascript object>"
      ]
     },
     "metadata": {},
     "output_type": "display_data"
    }
   ],
   "source": [
    "backbone = \"resnet34\""
   ]
  },
  {
   "cell_type": "code",
   "execution_count": 21,
   "metadata": {},
   "outputs": [
    {
     "data": {
      "application/javascript": [
       "\n",
       "            setTimeout(function() {\n",
       "                var nbb_cell_id = 21;\n",
       "                var nbb_unformatted_code = \"y = df[\\\"has_pneumothorax\\\"].values\";\n",
       "                var nbb_formatted_code = \"y = df[\\\"has_pneumothorax\\\"].values\";\n",
       "                var nbb_cells = Jupyter.notebook.get_cells();\n",
       "                for (var i = 0; i < nbb_cells.length; ++i) {\n",
       "                    if (nbb_cells[i].input_prompt_number == nbb_cell_id) {\n",
       "                        if (nbb_cells[i].get_text() == nbb_unformatted_code) {\n",
       "                             nbb_cells[i].set_text(nbb_formatted_code);\n",
       "                        }\n",
       "                        break;\n",
       "                    }\n",
       "                }\n",
       "            }, 500);\n",
       "            "
      ],
      "text/plain": [
       "<IPython.core.display.Javascript object>"
      ]
     },
     "metadata": {},
     "output_type": "display_data"
    }
   ],
   "source": [
    "y = df[\"has_pneumothorax\"].values"
   ]
  },
  {
   "cell_type": "code",
   "execution_count": 22,
   "metadata": {},
   "outputs": [
    {
     "data": {
      "application/javascript": [
       "\n",
       "            setTimeout(function() {\n",
       "                var nbb_cell_id = 22;\n",
       "                var nbb_unformatted_code = \"splits = list(StratifiedKFold(n_splits=2, shuffle=True, random_state=seed).split(y, y))\\ntrain_idx, val_idx = splits[0]\";\n",
       "                var nbb_formatted_code = \"splits = list(StratifiedKFold(n_splits=2, shuffle=True, random_state=seed).split(y, y))\\ntrain_idx, val_idx = splits[0]\";\n",
       "                var nbb_cells = Jupyter.notebook.get_cells();\n",
       "                for (var i = 0; i < nbb_cells.length; ++i) {\n",
       "                    if (nbb_cells[i].input_prompt_number == nbb_cell_id) {\n",
       "                        if (nbb_cells[i].get_text() == nbb_unformatted_code) {\n",
       "                             nbb_cells[i].set_text(nbb_formatted_code);\n",
       "                        }\n",
       "                        break;\n",
       "                    }\n",
       "                }\n",
       "            }, 500);\n",
       "            "
      ],
      "text/plain": [
       "<IPython.core.display.Javascript object>"
      ]
     },
     "metadata": {},
     "output_type": "display_data"
    }
   ],
   "source": [
    "splits = list(StratifiedKFold(n_splits=2, shuffle=True, random_state=seed).split(y, y))\n",
    "train_idx, val_idx = splits[0]"
   ]
  },
  {
   "cell_type": "code",
   "execution_count": 23,
   "metadata": {},
   "outputs": [
    {
     "data": {
      "application/javascript": [
       "\n",
       "            setTimeout(function() {\n",
       "                var nbb_cell_id = 23;\n",
       "                var nbb_unformatted_code = \"df_train = df.iloc[train_idx]\\ndf_val = df.iloc[val_idx]\";\n",
       "                var nbb_formatted_code = \"df_train = df.iloc[train_idx]\\ndf_val = df.iloc[val_idx]\";\n",
       "                var nbb_cells = Jupyter.notebook.get_cells();\n",
       "                for (var i = 0; i < nbb_cells.length; ++i) {\n",
       "                    if (nbb_cells[i].input_prompt_number == nbb_cell_id) {\n",
       "                        if (nbb_cells[i].get_text() == nbb_unformatted_code) {\n",
       "                             nbb_cells[i].set_text(nbb_formatted_code);\n",
       "                        }\n",
       "                        break;\n",
       "                    }\n",
       "                }\n",
       "            }, 500);\n",
       "            "
      ],
      "text/plain": [
       "<IPython.core.display.Javascript object>"
      ]
     },
     "metadata": {},
     "output_type": "display_data"
    }
   ],
   "source": [
    "df_train = df.iloc[train_idx]\n",
    "df_val = df.iloc[val_idx]"
   ]
  },
  {
   "cell_type": "code",
   "execution_count": 24,
   "metadata": {},
   "outputs": [
    {
     "data": {
      "application/javascript": [
       "\n",
       "            setTimeout(function() {\n",
       "                var nbb_cell_id = 24;\n",
       "                var nbb_unformatted_code = \"train_dataset = PneumoDataset(df_train, transforms=get_transfos(), ratio=ratio)\\nval_dataset = PneumoDataset(df_val, transforms=None, ratio=ratio)\";\n",
       "                var nbb_formatted_code = \"train_dataset = PneumoDataset(df_train, transforms=get_transfos(), ratio=ratio)\\nval_dataset = PneumoDataset(df_val, transforms=None, ratio=ratio)\";\n",
       "                var nbb_cells = Jupyter.notebook.get_cells();\n",
       "                for (var i = 0; i < nbb_cells.length; ++i) {\n",
       "                    if (nbb_cells[i].input_prompt_number == nbb_cell_id) {\n",
       "                        if (nbb_cells[i].get_text() == nbb_unformatted_code) {\n",
       "                             nbb_cells[i].set_text(nbb_formatted_code);\n",
       "                        }\n",
       "                        break;\n",
       "                    }\n",
       "                }\n",
       "            }, 500);\n",
       "            "
      ],
      "text/plain": [
       "<IPython.core.display.Javascript object>"
      ]
     },
     "metadata": {},
     "output_type": "display_data"
    }
   ],
   "source": [
    "train_dataset = PneumoDataset(df_train, transforms=get_transfos(), ratio=ratio)\n",
    "val_dataset = PneumoDataset(df_val, transforms=None, ratio=ratio)"
   ]
  },
  {
   "cell_type": "code",
   "execution_count": 54,
   "metadata": {},
   "outputs": [
    {
     "data": {
      "application/javascript": [
       "\n",
       "            setTimeout(function() {\n",
       "                var nbb_cell_id = 54;\n",
       "                var nbb_unformatted_code = \"hparams = {\\n    \\\"batch_size\\\": 32,\\n    \\\"lr_frozen\\\": 1e-3,\\n    \\\"lr_min_frozen\\\": 1e-4,\\n    \\\"epoch_frozen\\\": 10,\\n    \\\"epoch\\\": 20,\\n    \\\"lr\\\": 1e-4,\\n    \\\"lr_min\\\": 1e-5,\\n}\";\n",
       "                var nbb_formatted_code = \"hparams = {\\n    \\\"batch_size\\\": 32,\\n    \\\"lr_frozen\\\": 1e-3,\\n    \\\"lr_min_frozen\\\": 1e-4,\\n    \\\"epoch_frozen\\\": 10,\\n    \\\"epoch\\\": 20,\\n    \\\"lr\\\": 1e-4,\\n    \\\"lr_min\\\": 1e-5,\\n}\";\n",
       "                var nbb_cells = Jupyter.notebook.get_cells();\n",
       "                for (var i = 0; i < nbb_cells.length; ++i) {\n",
       "                    if (nbb_cells[i].input_prompt_number == nbb_cell_id) {\n",
       "                        if (nbb_cells[i].get_text() == nbb_unformatted_code) {\n",
       "                             nbb_cells[i].set_text(nbb_formatted_code);\n",
       "                        }\n",
       "                        break;\n",
       "                    }\n",
       "                }\n",
       "            }, 500);\n",
       "            "
      ],
      "text/plain": [
       "<IPython.core.display.Javascript object>"
      ]
     },
     "metadata": {},
     "output_type": "display_data"
    }
   ],
   "source": [
    "hparams = {\n",
    "    \"batch_size\": 32,\n",
    "    \"lr_frozen\": 1e-3,\n",
    "    \"lr_min_frozen\": 1e-4,\n",
    "    \"epoch_frozen\": 10,\n",
    "    \"epoch\": 20,\n",
    "    \"lr\": 1e-4,\n",
    "    \"lr_min\": 1e-5,\n",
    "}"
   ]
  },
  {
   "cell_type": "code",
   "execution_count": 55,
   "metadata": {},
   "outputs": [
    {
     "name": "stdout",
     "output_type": "stream",
     "text": [
      "\n",
      " - Training with frozen encoder \n",
      "\t -> 4920450 trainable parameters\n",
      "\n",
      "Epoch 1/10   lr=9.8e-04   t=41s   loss=1.987   dice=0.013   val_loss=0.490   val_acc=0.581\n",
      "Epoch 2/10   lr=9.1e-04   t=39s   loss=0.307   dice=0.002   val_loss=0.205   val_acc=0.678\n",
      "Epoch 3/10   lr=8.1e-04   t=39s   loss=0.167   dice=0.174   val_loss=0.144   val_acc=0.703\n",
      "Epoch 4/10   lr=6.9e-04   t=39s   loss=0.125   dice=0.329   val_loss=0.120   val_acc=0.724\n",
      "Epoch 5/10   lr=5.5e-04   t=39s   loss=0.105   dice=0.466   val_loss=0.108   val_acc=0.734\n",
      "Epoch 6/10   lr=4.1e-04   t=39s   loss=0.093   dice=0.473   val_loss=0.101   val_acc=0.734\n",
      "Epoch 7/10   lr=2.9e-04   t=39s   loss=0.083   dice=0.481   val_loss=0.099   val_acc=0.722\n",
      "Epoch 8/10   lr=1.9e-04   t=39s   loss=0.076   dice=0.484   val_loss=0.094   val_acc=0.734\n",
      "Epoch 9/10   lr=1.2e-04   t=39s   loss=0.073   dice=0.490   val_loss=0.092   val_acc=0.744\n",
      "Epoch 10/10   lr=1.0e-04   t=39s   loss=0.069   dice=0.489   val_loss=0.092   val_acc=0.745\n",
      "\n",
      " - Training full model \n",
      "\t -> 26188098 trainable parameters\n",
      "\n",
      "Epoch 1/20   lr=9.9e-05   t=41s   loss=0.067   dice=0.497   val_loss=0.089   val_acc=0.755\n",
      "Epoch 2/20   lr=9.8e-05   t=41s   loss=0.058   dice=0.493   val_loss=0.085   val_acc=0.765\n",
      "Epoch 3/20   lr=9.5e-05   t=41s   loss=0.049   dice=0.485   val_loss=0.081   val_acc=0.771\n",
      "Epoch 4/20   lr=9.1e-05   t=41s   loss=0.043   dice=0.484   val_loss=0.078   val_acc=0.772\n",
      "Epoch 5/20   lr=8.7e-05   t=41s   loss=0.038   dice=0.468   val_loss=0.080   val_acc=0.764\n",
      "Epoch 6/20   lr=8.1e-05   t=41s   loss=0.032   dice=0.495   val_loss=0.076   val_acc=0.771\n",
      "Epoch 7/20   lr=7.5e-05   t=41s   loss=0.029   dice=0.503   val_loss=0.076   val_acc=0.779\n",
      "Epoch 8/20   lr=6.9e-05   t=41s   loss=0.026   dice=0.505   val_loss=0.075   val_acc=0.790\n",
      "Epoch 9/20   lr=6.2e-05   t=41s   loss=0.024   dice=0.510   val_loss=0.074   val_acc=0.790\n",
      "Epoch 10/20   lr=5.5e-05   t=41s   loss=0.021   dice=0.509   val_loss=0.076   val_acc=0.788\n",
      "Epoch 11/20   lr=4.8e-05   t=41s   loss=0.020   dice=0.521   val_loss=0.075   val_acc=0.790\n",
      "Epoch 12/20   lr=4.1e-05   t=41s   loss=0.018   dice=0.525   val_loss=0.075   val_acc=0.794\n",
      "Epoch 13/20   lr=3.5e-05   t=41s   loss=0.017   dice=0.525   val_loss=0.076   val_acc=0.792\n",
      "Epoch 14/20   lr=2.9e-05   t=41s   loss=0.016   dice=0.527   val_loss=0.074   val_acc=0.801\n",
      "Epoch 15/20   lr=2.3e-05   t=41s   loss=0.015   dice=0.528   val_loss=0.074   val_acc=0.800\n",
      "Epoch 16/20   lr=1.9e-05   t=41s   loss=0.015   dice=0.529   val_loss=0.074   val_acc=0.803\n",
      "Epoch 17/20   lr=1.5e-05   t=41s   loss=0.014   dice=0.529   val_loss=0.075   val_acc=0.806\n",
      "Epoch 18/20   lr=1.2e-05   t=41s   loss=0.014   dice=0.529   val_loss=0.074   val_acc=0.802\n",
      "Epoch 19/20   lr=1.1e-05   t=41s   loss=0.014   dice=0.530   val_loss=0.075   val_acc=0.803\n",
      "Epoch 20/20   lr=1.0e-05   t=41s   loss=0.013   dice=0.530   val_loss=0.074   val_acc=0.804\n"
     ]
    },
    {
     "data": {
      "application/javascript": [
       "\n",
       "            setTimeout(function() {\n",
       "                var nbb_cell_id = 55;\n",
       "                var nbb_unformatted_code = \"assert torch.cuda.is_available(), \\\"Training on GPU is mandatory\\\"\\n\\nmodel_training(backbone, df_train, df_val, ratio=ratio, seed=seed, save=False, cp=False, **hparams)\";\n",
       "                var nbb_formatted_code = \"assert torch.cuda.is_available(), \\\"Training on GPU is mandatory\\\"\\n\\nmodel_training(\\n    backbone, df_train, df_val, ratio=ratio, seed=seed, save=False, cp=False, **hparams\\n)\";\n",
       "                var nbb_cells = Jupyter.notebook.get_cells();\n",
       "                for (var i = 0; i < nbb_cells.length; ++i) {\n",
       "                    if (nbb_cells[i].input_prompt_number == nbb_cell_id) {\n",
       "                        if (nbb_cells[i].get_text() == nbb_unformatted_code) {\n",
       "                             nbb_cells[i].set_text(nbb_formatted_code);\n",
       "                        }\n",
       "                        break;\n",
       "                    }\n",
       "                }\n",
       "            }, 500);\n",
       "            "
      ],
      "text/plain": [
       "<IPython.core.display.Javascript object>"
      ]
     },
     "metadata": {},
     "output_type": "display_data"
    }
   ],
   "source": [
    "assert torch.cuda.is_available(), \"Training on GPU is mandatory\"\n",
    "\n",
    "model_training(\n",
    "    backbone, df_train, df_val, ratio=ratio, seed=seed, save=False, cp=False, **hparams\n",
    ")"
   ]
  },
  {
   "cell_type": "markdown",
   "metadata": {},
   "source": [
    "**Tuning LR/ epochs**\n",
    "\n",
    "1e-3 / 1e-4 / 5 / 10 : acc=0.862, dice=0.779\n",
    "1e-3 / 1e-4 / 5 / 20 : acc=0.870, dice=0.785"
   ]
  },
  {
   "cell_type": "code",
   "execution_count": 56,
   "metadata": {},
   "outputs": [
    {
     "name": "stdout",
     "output_type": "stream",
     "text": [
      "\n",
      " - Training with frozen encoder \n",
      "\t -> 4920450 trainable parameters\n",
      "\n",
      "Epoch 1/5   lr=9.1e-04   t=39s   loss=2.057   dice=0.012   val_loss=0.532   val_acc=0.579\n",
      "Epoch 2/5   lr=6.9e-04   t=39s   loss=0.351   dice=0.004   val_loss=0.240   val_acc=0.688\n",
      "Epoch 3/5   lr=4.1e-04   t=39s   loss=0.207   dice=0.013   val_loss=0.181   val_acc=0.699\n",
      "Epoch 4/5   lr=1.9e-04   t=39s   loss=0.169   dice=0.063   val_loss=0.163   val_acc=0.702\n",
      "Epoch 5/5   lr=1.0e-04   t=39s   loss=0.154   dice=0.116   val_loss=0.153   val_acc=0.710\n",
      "\n",
      " - Training full model \n",
      "\t -> 26188098 trainable parameters\n",
      "\n",
      "Epoch 1/20   lr=9.9e-05   t=41s   loss=0.142   dice=0.217   val_loss=0.139   val_acc=0.747\n",
      "Epoch 2/20   lr=9.8e-05   t=41s   loss=0.121   dice=0.397   val_loss=0.126   val_acc=0.768\n",
      "Epoch 3/20   lr=9.5e-05   t=41s   loss=0.099   dice=0.478   val_loss=0.113   val_acc=0.775\n",
      "Epoch 4/20   lr=9.1e-05   t=41s   loss=0.081   dice=0.468   val_loss=0.104   val_acc=0.793\n",
      "Epoch 5/20   lr=8.7e-05   t=41s   loss=0.066   dice=0.494   val_loss=0.098   val_acc=0.772\n",
      "Epoch 6/20   lr=8.1e-05   t=41s   loss=0.057   dice=0.498   val_loss=0.090   val_acc=0.801\n",
      "Epoch 7/20   lr=7.5e-05   t=41s   loss=0.050   dice=0.499   val_loss=0.089   val_acc=0.799\n",
      "Epoch 8/20   lr=6.9e-05   t=41s   loss=0.043   dice=0.501   val_loss=0.088   val_acc=0.801\n",
      "Epoch 9/20   lr=6.2e-05   t=41s   loss=0.039   dice=0.511   val_loss=0.084   val_acc=0.793\n",
      "Epoch 10/20   lr=5.5e-05   t=41s   loss=0.036   dice=0.505   val_loss=0.083   val_acc=0.799\n",
      "Epoch 11/20   lr=4.8e-05   t=41s   loss=0.032   dice=0.522   val_loss=0.082   val_acc=0.797\n",
      "Epoch 12/20   lr=4.1e-05   t=41s   loss=0.030   dice=0.519   val_loss=0.080   val_acc=0.804\n",
      "Epoch 13/20   lr=3.5e-05   t=41s   loss=0.028   dice=0.528   val_loss=0.079   val_acc=0.809\n",
      "Epoch 14/20   lr=2.9e-05   t=41s   loss=0.026   dice=0.527   val_loss=0.078   val_acc=0.808\n",
      "Epoch 15/20   lr=2.3e-05   t=41s   loss=0.025   dice=0.529   val_loss=0.078   val_acc=0.810\n",
      "Epoch 16/20   lr=1.9e-05   t=41s   loss=0.024   dice=0.532   val_loss=0.078   val_acc=0.807\n",
      "Epoch 17/20   lr=1.5e-05   t=41s   loss=0.023   dice=0.531   val_loss=0.076   val_acc=0.814\n",
      "Epoch 18/20   lr=1.2e-05   t=41s   loss=0.023   dice=0.530   val_loss=0.077   val_acc=0.811\n",
      "Epoch 19/20   lr=1.1e-05   t=41s   loss=0.022   dice=0.532   val_loss=0.076   val_acc=0.814\n",
      "Epoch 20/20   lr=1.0e-05   t=41s   loss=0.021   dice=0.533   val_loss=0.076   val_acc=0.817\n"
     ]
    },
    {
     "data": {
      "application/javascript": [
       "\n",
       "            setTimeout(function() {\n",
       "                var nbb_cell_id = 56;\n",
       "                var nbb_unformatted_code = \"hparams = {\\n    \\\"batch_size\\\": 32,\\n    \\\"lr_frozen\\\": 1e-3,\\n    \\\"lr_min_frozen\\\": 1e-4,\\n    \\\"epoch_frozen\\\": 5,\\n    \\\"epoch\\\": 20,\\n    \\\"lr\\\": 1e-4,\\n    \\\"lr_min\\\": 1e-5,\\n}\\nmodel_training(\\n    backbone, df_train, df_val, ratio=ratio, seed=seed, save=False, cp=False, **hparams\\n)\";\n",
       "                var nbb_formatted_code = \"hparams = {\\n    \\\"batch_size\\\": 32,\\n    \\\"lr_frozen\\\": 1e-3,\\n    \\\"lr_min_frozen\\\": 1e-4,\\n    \\\"epoch_frozen\\\": 5,\\n    \\\"epoch\\\": 20,\\n    \\\"lr\\\": 1e-4,\\n    \\\"lr_min\\\": 1e-5,\\n}\\nmodel_training(\\n    backbone, df_train, df_val, ratio=ratio, seed=seed, save=False, cp=False, **hparams\\n)\";\n",
       "                var nbb_cells = Jupyter.notebook.get_cells();\n",
       "                for (var i = 0; i < nbb_cells.length; ++i) {\n",
       "                    if (nbb_cells[i].input_prompt_number == nbb_cell_id) {\n",
       "                        if (nbb_cells[i].get_text() == nbb_unformatted_code) {\n",
       "                             nbb_cells[i].set_text(nbb_formatted_code);\n",
       "                        }\n",
       "                        break;\n",
       "                    }\n",
       "                }\n",
       "            }, 500);\n",
       "            "
      ],
      "text/plain": [
       "<IPython.core.display.Javascript object>"
      ]
     },
     "metadata": {},
     "output_type": "display_data"
    }
   ],
   "source": [
    "hparams = {\n",
    "    \"batch_size\": 32,\n",
    "    \"lr_frozen\": 1e-3,\n",
    "    \"lr_min_frozen\": 1e-4,\n",
    "    \"epoch_frozen\": 5,\n",
    "    \"epoch\": 20,\n",
    "    \"lr\": 1e-4,\n",
    "    \"lr_min\": 1e-5,\n",
    "}\n",
    "model_training(\n",
    "    backbone, df_train, df_val, ratio=ratio, seed=seed, save=False, cp=False, **hparams\n",
    ")"
   ]
  },
  {
   "cell_type": "code",
   "execution_count": 57,
   "metadata": {},
   "outputs": [
    {
     "name": "stdout",
     "output_type": "stream",
     "text": [
      "\n",
      " - Training with frozen encoder \n",
      "\t -> 4920450 trainable parameters\n",
      "\n",
      "Epoch 1/5   lr=9.1e-04   t=39s   loss=2.056   dice=0.012   val_loss=0.533   val_acc=0.581\n",
      "Epoch 2/5   lr=6.9e-04   t=39s   loss=0.351   dice=0.004   val_loss=0.240   val_acc=0.687\n",
      "Epoch 3/5   lr=4.1e-04   t=39s   loss=0.207   dice=0.013   val_loss=0.181   val_acc=0.700\n",
      "Epoch 4/5   lr=1.9e-04   t=39s   loss=0.169   dice=0.063   val_loss=0.163   val_acc=0.703\n",
      "Epoch 5/5   lr=1.0e-04   t=39s   loss=0.154   dice=0.116   val_loss=0.153   val_acc=0.710\n",
      "\n",
      " - Training full model \n",
      "\t -> 26188098 trainable parameters\n",
      "\n",
      "Epoch 1/20   lr=9.9e-04   t=41s   loss=0.127   dice=0.499   val_loss=0.119   val_acc=0.634\n",
      "Epoch 2/20   lr=9.8e-04   t=41s   loss=0.086   dice=0.502   val_loss=0.080   val_acc=0.776\n",
      "Epoch 3/20   lr=9.5e-04   t=41s   loss=0.067   dice=0.481   val_loss=0.079   val_acc=0.753\n",
      "Epoch 4/20   lr=9.1e-04   t=41s   loss=0.059   dice=0.527   val_loss=0.066   val_acc=0.798\n",
      "Epoch 5/20   lr=8.7e-04   t=41s   loss=0.051   dice=0.521   val_loss=0.070   val_acc=0.770\n",
      "Epoch 6/20   lr=8.1e-04   t=41s   loss=0.044   dice=0.538   val_loss=0.088   val_acc=0.727\n",
      "Epoch 7/20   lr=7.5e-04   t=41s   loss=0.040   dice=0.488   val_loss=0.122   val_acc=0.615\n",
      "Epoch 8/20   lr=6.9e-04   t=41s   loss=0.038   dice=0.530   val_loss=0.063   val_acc=0.806\n",
      "Epoch 9/20   lr=6.2e-04   t=41s   loss=0.032   dice=0.514   val_loss=0.066   val_acc=0.801\n",
      "Epoch 10/20   lr=5.5e-04   t=41s   loss=0.028   dice=0.558   val_loss=0.081   val_acc=0.763\n",
      "Epoch 11/20   lr=4.8e-04   t=41s   loss=0.023   dice=0.544   val_loss=0.068   val_acc=0.802\n",
      "Epoch 12/20   lr=4.1e-04   t=41s   loss=0.021   dice=0.566   val_loss=0.060   val_acc=0.822\n",
      "Epoch 13/20   lr=3.5e-04   t=41s   loss=0.018   dice=0.571   val_loss=0.062   val_acc=0.829\n",
      "Epoch 14/20   lr=2.9e-04   t=41s   loss=0.016   dice=0.555   val_loss=0.066   val_acc=0.819\n",
      "Epoch 15/20   lr=2.3e-04   t=41s   loss=0.013   dice=0.577   val_loss=0.063   val_acc=0.827\n",
      "Epoch 16/20   lr=1.9e-04   t=41s   loss=0.012   dice=0.581   val_loss=0.066   val_acc=0.823\n",
      "Epoch 17/20   lr=1.5e-04   t=41s   loss=0.011   dice=0.594   val_loss=0.063   val_acc=0.840\n",
      "Epoch 18/20   lr=1.2e-04   t=41s   loss=0.010   dice=0.587   val_loss=0.065   val_acc=0.834\n",
      "Epoch 19/20   lr=1.1e-04   t=41s   loss=0.010   dice=0.589   val_loss=0.065   val_acc=0.839\n",
      "Epoch 20/20   lr=1.0e-04   t=41s   loss=0.009   dice=0.580   val_loss=0.067   val_acc=0.836\n"
     ]
    },
    {
     "data": {
      "application/javascript": [
       "\n",
       "            setTimeout(function() {\n",
       "                var nbb_cell_id = 57;\n",
       "                var nbb_unformatted_code = \"hparams = {\\n    \\\"batch_size\\\": 32,\\n    \\\"lr_frozen\\\": 1e-3,\\n    \\\"lr_min_frozen\\\": 1e-4,\\n    \\\"epoch_frozen\\\": 5,\\n    \\\"epoch\\\": 20,\\n    \\\"lr\\\": 1e-3,\\n    \\\"lr_min\\\": 1e-4,\\n}\\nmodel_training(\\n    backbone, df_train, df_val, ratio=ratio, seed=seed, save=False, cp=False, **hparams\\n)\";\n",
       "                var nbb_formatted_code = \"hparams = {\\n    \\\"batch_size\\\": 32,\\n    \\\"lr_frozen\\\": 1e-3,\\n    \\\"lr_min_frozen\\\": 1e-4,\\n    \\\"epoch_frozen\\\": 5,\\n    \\\"epoch\\\": 20,\\n    \\\"lr\\\": 1e-3,\\n    \\\"lr_min\\\": 1e-4,\\n}\\nmodel_training(\\n    backbone, df_train, df_val, ratio=ratio, seed=seed, save=False, cp=False, **hparams\\n)\";\n",
       "                var nbb_cells = Jupyter.notebook.get_cells();\n",
       "                for (var i = 0; i < nbb_cells.length; ++i) {\n",
       "                    if (nbb_cells[i].input_prompt_number == nbb_cell_id) {\n",
       "                        if (nbb_cells[i].get_text() == nbb_unformatted_code) {\n",
       "                             nbb_cells[i].set_text(nbb_formatted_code);\n",
       "                        }\n",
       "                        break;\n",
       "                    }\n",
       "                }\n",
       "            }, 500);\n",
       "            "
      ],
      "text/plain": [
       "<IPython.core.display.Javascript object>"
      ]
     },
     "metadata": {},
     "output_type": "display_data"
    }
   ],
   "source": [
    "hparams = {\n",
    "    \"batch_size\": 32,\n",
    "    \"lr_frozen\": 1e-3,\n",
    "    \"lr_min_frozen\": 1e-4,\n",
    "    \"epoch_frozen\": 5,\n",
    "    \"epoch\": 20,\n",
    "    \"lr\": 1e-3,\n",
    "    \"lr_min\": 1e-4,\n",
    "}\n",
    "model_training(\n",
    "    backbone, df_train, df_val, ratio=ratio, seed=seed, save=False, cp=False, **hparams\n",
    ")"
   ]
  },
  {
   "cell_type": "code",
   "execution_count": 27,
   "metadata": {},
   "outputs": [
    {
     "name": "stdout",
     "output_type": "stream",
     "text": [
      "\n",
      " - Training with frozen encoder \n",
      "\t -> 4920450 trainable parameters\n",
      "\n",
      "Epoch 1/3   lr=7.8e-04   t=52s   loss=2.246   dice=0.012   val_loss=0.694   val_acc=0.577\n",
      "Epoch 2/3   lr=3.3e-04   t=41s   loss=0.485   dice=0.010   val_loss=0.356   val_acc=0.671\n",
      "Epoch 3/3   lr=1.0e-04   t=39s   loss=0.339   dice=0.008   val_loss=0.305   val_acc=0.684\n",
      "\n",
      " - Training full model \n",
      "\t -> 26188098 trainable parameters\n",
      "\n",
      "Epoch 1/25   lr=1.0e-03   t=42s   loss=0.214   dice=0.271   val_loss=0.148   val_acc=0.751\n",
      "Epoch 2/25   lr=9.9e-04   t=42s   loss=0.121   dice=0.499   val_loss=0.109   val_acc=0.784\n",
      "Epoch 3/25   lr=9.7e-04   t=41s   loss=0.086   dice=0.493   val_loss=0.081   val_acc=0.810\n",
      "Epoch 4/25   lr=9.4e-04   t=41s   loss=0.068   dice=0.481   val_loss=0.089   val_acc=0.679\n",
      "Epoch 5/25   lr=9.1e-04   t=41s   loss=0.060   dice=0.525   val_loss=0.074   val_acc=0.792\n",
      "Epoch 6/25   lr=8.8e-04   t=41s   loss=0.053   dice=0.507   val_loss=0.075   val_acc=0.760\n",
      "Epoch 7/25   lr=8.4e-04   t=42s   loss=0.049   dice=0.380   val_loss=0.077   val_acc=0.746\n",
      "Epoch 8/25   lr=7.9e-04   t=44s   loss=0.043   dice=0.544   val_loss=0.064   val_acc=0.803\n",
      "Epoch 9/25   lr=7.4e-04   t=45s   loss=0.039   dice=0.522   val_loss=0.068   val_acc=0.788\n",
      "Epoch 10/25   lr=6.9e-04   t=44s   loss=0.033   dice=0.546   val_loss=0.066   val_acc=0.819\n",
      "Epoch 11/25   lr=6.3e-04   t=42s   loss=0.033   dice=0.562   val_loss=0.072   val_acc=0.792\n",
      "Epoch 12/25   lr=5.8e-04   t=42s   loss=0.028   dice=0.456   val_loss=0.080   val_acc=0.766\n",
      "Epoch 13/25   lr=5.2e-04   t=42s   loss=0.027   dice=0.561   val_loss=0.070   val_acc=0.794\n",
      "Epoch 14/25   lr=4.7e-04   t=42s   loss=0.023   dice=0.561   val_loss=0.080   val_acc=0.773\n",
      "Epoch 15/25   lr=4.1e-04   t=43s   loss=0.019   dice=0.530   val_loss=0.085   val_acc=0.778\n",
      "Epoch 16/25   lr=3.6e-04   t=44s   loss=0.018   dice=0.527   val_loss=0.066   val_acc=0.819\n",
      "Epoch 17/25   lr=3.1e-04   t=42s   loss=0.016   dice=0.568   val_loss=0.062   val_acc=0.831\n",
      "Epoch 18/25   lr=2.6e-04   t=44s   loss=0.013   dice=0.573   val_loss=0.068   val_acc=0.829\n",
      "Epoch 19/25   lr=2.2e-04   t=43s   loss=0.013   dice=0.571   val_loss=0.076   val_acc=0.814\n",
      "Epoch 20/25   lr=1.9e-04   t=42s   loss=0.013   dice=0.585   val_loss=0.068   val_acc=0.832\n",
      "Epoch 21/25   lr=1.6e-04   t=43s   loss=0.011   dice=0.580   val_loss=0.070   val_acc=0.832\n",
      "Epoch 22/25   lr=1.3e-04   t=42s   loss=0.010   dice=0.580   val_loss=0.068   val_acc=0.834\n",
      "Epoch 23/25   lr=1.1e-04   t=42s   loss=0.010   dice=0.593   val_loss=0.069   val_acc=0.840\n",
      "Epoch 24/25   lr=1.0e-04   t=42s   loss=0.009   dice=0.588   val_loss=0.071   val_acc=0.839\n",
      "Epoch 25/25   lr=1.0e-04   t=42s   loss=0.009   dice=0.592   val_loss=0.071   val_acc=0.843\n"
     ]
    },
    {
     "data": {
      "application/javascript": [
       "\n",
       "            setTimeout(function() {\n",
       "                var nbb_cell_id = 27;\n",
       "                var nbb_unformatted_code = \"hparams = {\\n    \\\"batch_size\\\": 32,\\n    \\\"lr_frozen\\\": 1e-3,\\n    \\\"lr_min_frozen\\\": 1e-4,\\n    \\\"epoch_frozen\\\": 3,\\n    \\\"epoch\\\": 25,\\n    \\\"lr\\\": 1e-3,\\n    \\\"lr_min\\\": 1e-4,\\n}\\nmodel_training(\\n    backbone, df_train, df_val, ratio=ratio, seed=seed, save=False, cp=False, **hparams\\n)\";\n",
       "                var nbb_formatted_code = \"hparams = {\\n    \\\"batch_size\\\": 32,\\n    \\\"lr_frozen\\\": 1e-3,\\n    \\\"lr_min_frozen\\\": 1e-4,\\n    \\\"epoch_frozen\\\": 3,\\n    \\\"epoch\\\": 25,\\n    \\\"lr\\\": 1e-3,\\n    \\\"lr_min\\\": 1e-4,\\n}\\nmodel_training(\\n    backbone, df_train, df_val, ratio=ratio, seed=seed, save=False, cp=False, **hparams\\n)\";\n",
       "                var nbb_cells = Jupyter.notebook.get_cells();\n",
       "                for (var i = 0; i < nbb_cells.length; ++i) {\n",
       "                    if (nbb_cells[i].input_prompt_number == nbb_cell_id) {\n",
       "                        if (nbb_cells[i].get_text() == nbb_unformatted_code) {\n",
       "                             nbb_cells[i].set_text(nbb_formatted_code);\n",
       "                        }\n",
       "                        break;\n",
       "                    }\n",
       "                }\n",
       "            }, 500);\n",
       "            "
      ],
      "text/plain": [
       "<IPython.core.display.Javascript object>"
      ]
     },
     "metadata": {},
     "output_type": "display_data"
    }
   ],
   "source": [
    "hparams = {\n",
    "    \"batch_size\": 32,\n",
    "    \"lr_frozen\": 1e-3,\n",
    "    \"lr_min_frozen\": 1e-4,\n",
    "    \"epoch_frozen\": 3,\n",
    "    \"epoch\": 25,\n",
    "    \"lr\": 1e-3,\n",
    "    \"lr_min\": 1e-4,\n",
    "}\n",
    "model_training(\n",
    "    backbone, df_train, df_val, ratio=ratio, seed=seed, save=False, cp=False, **hparams\n",
    ")"
   ]
  },
  {
   "cell_type": "code",
   "execution_count": 28,
   "metadata": {},
   "outputs": [
    {
     "name": "stdout",
     "output_type": "stream",
     "text": [
      "\n",
      " - Training with frozen encoder \n",
      "\t -> 4920450 trainable parameters\n",
      "\n",
      "Epoch 1/5   lr=9.1e-04   t=40s   loss=2.071   dice=0.013   val_loss=0.554   val_acc=0.603\n",
      "Epoch 2/5   lr=6.9e-04   t=40s   loss=0.351   dice=0.004   val_loss=0.238   val_acc=0.691\n",
      "Epoch 3/5   lr=4.1e-04   t=40s   loss=0.210   dice=0.017   val_loss=0.180   val_acc=0.690\n",
      "Epoch 4/5   lr=1.9e-04   t=40s   loss=0.168   dice=0.076   val_loss=0.163   val_acc=0.719\n",
      "Epoch 5/5   lr=1.0e-04   t=40s   loss=0.153   dice=0.125   val_loss=0.152   val_acc=0.716\n",
      "\n",
      " - Training full model \n",
      "\t -> 26188098 trainable parameters\n",
      "\n",
      "Epoch 1/40   lr=1.0e-03   t=42s   loss=0.124   dice=0.494   val_loss=0.102   val_acc=0.727\n",
      "Epoch 2/40   lr=9.9e-04   t=42s   loss=0.086   dice=0.387   val_loss=0.092   val_acc=0.692\n",
      "Epoch 3/40   lr=9.9e-04   t=42s   loss=0.066   dice=0.517   val_loss=0.073   val_acc=0.792\n",
      "Epoch 4/40   lr=9.8e-04   t=43s   loss=0.057   dice=0.457   val_loss=0.084   val_acc=0.682\n",
      "Epoch 5/40   lr=9.7e-04   t=42s   loss=0.053   dice=0.504   val_loss=0.071   val_acc=0.777\n",
      "Epoch 6/40   lr=9.5e-04   t=42s   loss=0.052   dice=0.534   val_loss=0.109   val_acc=0.649\n",
      "Epoch 7/40   lr=9.3e-04   t=45s   loss=0.046   dice=0.511   val_loss=0.068   val_acc=0.769\n",
      "Epoch 8/40   lr=9.1e-04   t=44s   loss=0.041   dice=0.541   val_loss=0.061   val_acc=0.810\n",
      "Epoch 9/40   lr=8.9e-04   t=44s   loss=0.039   dice=0.512   val_loss=0.069   val_acc=0.776\n",
      "Epoch 10/40   lr=8.7e-04   t=44s   loss=0.037   dice=0.408   val_loss=0.075   val_acc=0.749\n",
      "Epoch 11/40   lr=8.4e-04   t=44s   loss=0.034   dice=0.534   val_loss=0.071   val_acc=0.781\n",
      "Epoch 12/40   lr=8.1e-04   t=44s   loss=0.034   dice=0.526   val_loss=0.072   val_acc=0.768\n",
      "Epoch 13/40   lr=7.9e-04   t=44s   loss=0.028   dice=0.498   val_loss=0.066   val_acc=0.800\n",
      "Epoch 14/40   lr=7.5e-04   t=44s   loss=0.026   dice=0.503   val_loss=0.133   val_acc=0.650\n",
      "Epoch 15/40   lr=7.2e-04   t=44s   loss=0.026   dice=0.550   val_loss=0.070   val_acc=0.788\n",
      "Epoch 16/40   lr=6.9e-04   t=44s   loss=0.020   dice=0.522   val_loss=0.074   val_acc=0.790\n",
      "Epoch 17/40   lr=6.6e-04   t=44s   loss=0.021   dice=0.487   val_loss=0.090   val_acc=0.780\n",
      "Epoch 18/40   lr=6.2e-04   t=44s   loss=0.022   dice=0.401   val_loss=0.091   val_acc=0.737\n",
      "Epoch 19/40   lr=5.9e-04   t=47s   loss=0.018   dice=0.537   val_loss=0.091   val_acc=0.766\n",
      "Epoch 20/40   lr=5.5e-04   t=45s   loss=0.016   dice=0.550   val_loss=0.080   val_acc=0.779\n",
      "Epoch 21/40   lr=5.1e-04   t=45s   loss=0.016   dice=0.552   val_loss=0.095   val_acc=0.761\n",
      "Epoch 22/40   lr=4.8e-04   t=46s   loss=0.013   dice=0.548   val_loss=0.069   val_acc=0.814\n",
      "Epoch 23/40   lr=4.4e-04   t=45s   loss=0.013   dice=0.560   val_loss=0.075   val_acc=0.813\n",
      "Epoch 24/40   lr=4.1e-04   t=45s   loss=0.013   dice=0.516   val_loss=0.077   val_acc=0.802\n",
      "Epoch 25/40   lr=3.8e-04   t=45s   loss=0.012   dice=0.565   val_loss=0.073   val_acc=0.819\n",
      "Epoch 26/40   lr=3.5e-04   t=45s   loss=0.010   dice=0.580   val_loss=0.076   val_acc=0.819\n",
      "Epoch 27/40   lr=3.1e-04   t=44s   loss=0.009   dice=0.555   val_loss=0.075   val_acc=0.825\n",
      "Epoch 28/40   lr=2.9e-04   t=44s   loss=0.009   dice=0.578   val_loss=0.083   val_acc=0.808\n",
      "Epoch 29/40   lr=2.6e-04   t=45s   loss=0.008   dice=0.587   val_loss=0.077   val_acc=0.834\n",
      "Epoch 30/40   lr=2.3e-04   t=46s   loss=0.008   dice=0.574   val_loss=0.076   val_acc=0.830\n",
      "Epoch 31/40   lr=2.1e-04   t=46s   loss=0.007   dice=0.568   val_loss=0.077   val_acc=0.832\n",
      "Epoch 32/40   lr=1.9e-04   t=45s   loss=0.007   dice=0.556   val_loss=0.081   val_acc=0.815\n",
      "Epoch 33/40   lr=1.7e-04   t=45s   loss=0.007   dice=0.564   val_loss=0.079   val_acc=0.834\n",
      "Epoch 34/40   lr=1.5e-04   t=43s   loss=0.007   dice=0.589   val_loss=0.087   val_acc=0.815\n",
      "Epoch 35/40   lr=1.3e-04   t=44s   loss=0.006   dice=0.580   val_loss=0.079   val_acc=0.837\n",
      "Epoch 36/40   lr=1.2e-04   t=45s   loss=0.006   dice=0.571   val_loss=0.081   val_acc=0.833\n",
      "Epoch 37/40   lr=1.1e-04   t=44s   loss=0.006   dice=0.580   val_loss=0.082   val_acc=0.832\n",
      "Epoch 38/40   lr=1.1e-04   t=43s   loss=0.006   dice=0.576   val_loss=0.081   val_acc=0.833\n",
      "Epoch 39/40   lr=1.0e-04   t=43s   loss=0.006   dice=0.577   val_loss=0.082   val_acc=0.834\n",
      "Epoch 40/40   lr=1.0e-04   t=42s   loss=0.005   dice=0.565   val_loss=0.083   val_acc=0.834\n"
     ]
    },
    {
     "data": {
      "application/javascript": [
       "\n",
       "            setTimeout(function() {\n",
       "                var nbb_cell_id = 28;\n",
       "                var nbb_unformatted_code = \"hparams = {\\n    \\\"batch_size\\\": 32,\\n    \\\"lr_frozen\\\": 1e-3,\\n    \\\"lr_min_frozen\\\": 1e-4,\\n    \\\"epoch_frozen\\\": 5,\\n    \\\"epoch\\\": 40,\\n    \\\"lr\\\": 1e-3,\\n    \\\"lr_min\\\": 1e-4,\\n}\\nmodel_training(\\n    backbone, df_train, df_val, ratio=ratio, seed=seed, save=False, cp=False, **hparams\\n)\";\n",
       "                var nbb_formatted_code = \"hparams = {\\n    \\\"batch_size\\\": 32,\\n    \\\"lr_frozen\\\": 1e-3,\\n    \\\"lr_min_frozen\\\": 1e-4,\\n    \\\"epoch_frozen\\\": 5,\\n    \\\"epoch\\\": 40,\\n    \\\"lr\\\": 1e-3,\\n    \\\"lr_min\\\": 1e-4,\\n}\\nmodel_training(\\n    backbone, df_train, df_val, ratio=ratio, seed=seed, save=False, cp=False, **hparams\\n)\";\n",
       "                var nbb_cells = Jupyter.notebook.get_cells();\n",
       "                for (var i = 0; i < nbb_cells.length; ++i) {\n",
       "                    if (nbb_cells[i].input_prompt_number == nbb_cell_id) {\n",
       "                        if (nbb_cells[i].get_text() == nbb_unformatted_code) {\n",
       "                             nbb_cells[i].set_text(nbb_formatted_code);\n",
       "                        }\n",
       "                        break;\n",
       "                    }\n",
       "                }\n",
       "            }, 500);\n",
       "            "
      ],
      "text/plain": [
       "<IPython.core.display.Javascript object>"
      ]
     },
     "metadata": {},
     "output_type": "display_data"
    }
   ],
   "source": [
    "hparams = {\n",
    "    \"batch_size\": 32,\n",
    "    \"lr_frozen\": 1e-3,\n",
    "    \"lr_min_frozen\": 1e-4,\n",
    "    \"epoch_frozen\": 5,\n",
    "    \"epoch\": 40,\n",
    "    \"lr\": 1e-3,\n",
    "    \"lr_min\": 1e-4,\n",
    "}\n",
    "model_training(\n",
    "    backbone, df_train, df_val, ratio=ratio, seed=seed, save=False, cp=False, **hparams\n",
    ")"
   ]
  },
  {
   "cell_type": "code",
   "execution_count": 29,
   "metadata": {},
   "outputs": [
    {
     "name": "stdout",
     "output_type": "stream",
     "text": [
      "\n",
      " - Training with frozen encoder \n",
      "\t -> 4920450 trainable parameters\n",
      "\n",
      "Epoch 1/3   lr=7.8e-04   t=40s   loss=2.246   dice=0.012   val_loss=0.694   val_acc=0.577\n",
      "Epoch 2/3   lr=3.3e-04   t=41s   loss=0.485   dice=0.010   val_loss=0.356   val_acc=0.670\n",
      "Epoch 3/3   lr=1.0e-04   t=41s   loss=0.339   dice=0.008   val_loss=0.305   val_acc=0.681\n",
      "\n",
      " - Training full model \n",
      "\t -> 26188098 trainable parameters\n",
      "\n",
      "Epoch 1/25   lr=1.0e-03   t=45s   loss=0.214   dice=0.175   val_loss=0.149   val_acc=0.699\n",
      "Epoch 2/25   lr=9.8e-04   t=43s   loss=0.119   dice=0.474   val_loss=0.102   val_acc=0.767\n",
      "Epoch 3/25   lr=9.7e-04   t=42s   loss=0.084   dice=0.493   val_loss=0.080   val_acc=0.799\n",
      "Epoch 4/25   lr=9.4e-04   t=43s   loss=0.068   dice=0.370   val_loss=0.095   val_acc=0.641\n",
      "Epoch 5/25   lr=9.1e-04   t=43s   loss=0.059   dice=0.427   val_loss=0.105   val_acc=0.550\n",
      "Epoch 6/25   lr=8.7e-04   t=42s   loss=0.051   dice=0.488   val_loss=0.083   val_acc=0.707\n",
      "Epoch 7/25   lr=8.2e-04   t=42s   loss=0.046   dice=0.503   val_loss=0.068   val_acc=0.799\n",
      "Epoch 8/25   lr=7.7e-04   t=42s   loss=0.043   dice=0.552   val_loss=0.069   val_acc=0.772\n",
      "Epoch 9/25   lr=7.2e-04   t=44s   loss=0.037   dice=0.537   val_loss=0.086   val_acc=0.724\n",
      "Epoch 10/25   lr=6.6e-04   t=42s   loss=0.035   dice=0.475   val_loss=0.067   val_acc=0.802\n",
      "Epoch 11/25   lr=6.0e-04   t=42s   loss=0.031   dice=0.555   val_loss=0.072   val_acc=0.771\n",
      "Epoch 12/25   lr=5.4e-04   t=42s   loss=0.026   dice=0.512   val_loss=0.076   val_acc=0.780\n",
      "Epoch 13/25   lr=4.7e-04   t=42s   loss=0.024   dice=0.558   val_loss=0.076   val_acc=0.775\n",
      "Epoch 14/25   lr=4.1e-04   t=42s   loss=0.022   dice=0.553   val_loss=0.064   val_acc=0.820\n",
      "Epoch 15/25   lr=3.5e-04   t=42s   loss=0.018   dice=0.530   val_loss=0.066   val_acc=0.812\n",
      "Epoch 16/25   lr=2.9e-04   t=42s   loss=0.016   dice=0.544   val_loss=0.072   val_acc=0.810\n",
      "Epoch 17/25   lr=2.4e-04   t=43s   loss=0.014   dice=0.559   val_loss=0.066   val_acc=0.839\n",
      "Epoch 18/25   lr=1.9e-04   t=42s   loss=0.012   dice=0.572   val_loss=0.068   val_acc=0.835\n",
      "Epoch 19/25   lr=1.4e-04   t=42s   loss=0.012   dice=0.575   val_loss=0.072   val_acc=0.822\n",
      "Epoch 20/25   lr=1.0e-04   t=43s   loss=0.011   dice=0.585   val_loss=0.067   val_acc=0.838\n",
      "Epoch 21/25   lr=7.1e-05   t=43s   loss=0.010   dice=0.575   val_loss=0.067   val_acc=0.839\n",
      "Epoch 22/25   lr=4.5e-05   t=42s   loss=0.010   dice=0.577   val_loss=0.067   val_acc=0.841\n",
      "Epoch 23/25   lr=2.6e-05   t=42s   loss=0.010   dice=0.582   val_loss=0.068   val_acc=0.839\n",
      "Epoch 24/25   lr=1.4e-05   t=42s   loss=0.010   dice=0.578   val_loss=0.069   val_acc=0.838\n",
      "Epoch 25/25   lr=1.0e-05   t=43s   loss=0.010   dice=0.578   val_loss=0.068   val_acc=0.843\n"
     ]
    },
    {
     "data": {
      "application/javascript": [
       "\n",
       "            setTimeout(function() {\n",
       "                var nbb_cell_id = 29;\n",
       "                var nbb_unformatted_code = \"hparams = {\\n    \\\"batch_size\\\": 32,\\n    \\\"lr_frozen\\\": 1e-3,\\n    \\\"lr_min_frozen\\\": 1e-4,\\n    \\\"epoch_frozen\\\": 3,\\n    \\\"epoch\\\": 25,\\n    \\\"lr\\\": 1e-3,\\n    \\\"lr_min\\\": 1e-5,\\n}\\nmodel_training(\\n    backbone, df_train, df_val, ratio=ratio, seed=seed, save=False, cp=False, **hparams\\n)\";\n",
       "                var nbb_formatted_code = \"hparams = {\\n    \\\"batch_size\\\": 32,\\n    \\\"lr_frozen\\\": 1e-3,\\n    \\\"lr_min_frozen\\\": 1e-4,\\n    \\\"epoch_frozen\\\": 3,\\n    \\\"epoch\\\": 25,\\n    \\\"lr\\\": 1e-3,\\n    \\\"lr_min\\\": 1e-5,\\n}\\nmodel_training(\\n    backbone, df_train, df_val, ratio=ratio, seed=seed, save=False, cp=False, **hparams\\n)\";\n",
       "                var nbb_cells = Jupyter.notebook.get_cells();\n",
       "                for (var i = 0; i < nbb_cells.length; ++i) {\n",
       "                    if (nbb_cells[i].input_prompt_number == nbb_cell_id) {\n",
       "                        if (nbb_cells[i].get_text() == nbb_unformatted_code) {\n",
       "                             nbb_cells[i].set_text(nbb_formatted_code);\n",
       "                        }\n",
       "                        break;\n",
       "                    }\n",
       "                }\n",
       "            }, 500);\n",
       "            "
      ],
      "text/plain": [
       "<IPython.core.display.Javascript object>"
      ]
     },
     "metadata": {},
     "output_type": "display_data"
    }
   ],
   "source": [
    "hparams = {\n",
    "    \"batch_size\": 32,\n",
    "    \"lr_frozen\": 1e-3,\n",
    "    \"lr_min_frozen\": 1e-4,\n",
    "    \"epoch_frozen\": 3,\n",
    "    \"epoch\": 25,\n",
    "    \"lr\": 1e-3,\n",
    "    \"lr_min\": 1e-5,\n",
    "}\n",
    "model_training(\n",
    "    backbone, df_train, df_val, ratio=ratio, seed=seed, save=False, cp=False, **hparams\n",
    ")"
   ]
  },
  {
   "cell_type": "code",
   "execution_count": 30,
   "metadata": {},
   "outputs": [
    {
     "name": "stdout",
     "output_type": "stream",
     "text": [
      "\n",
      " - Training with frozen encoder \n",
      "\t -> 4920450 trainable parameters\n",
      "\n",
      "Epoch 1/3   lr=4.0e-04   t=41s   loss=2.953   dice=0.012   val_loss=1.716   val_acc=0.556\n",
      "Epoch 2/3   lr=2.0e-04   t=41s   loss=0.945   dice=0.011   val_loss=0.625   val_acc=0.627\n",
      "Epoch 3/3   lr=1.0e-04   t=41s   loss=0.580   dice=0.012   val_loss=0.483   val_acc=0.654\n",
      "\n",
      " - Training full model \n",
      "\t -> 26188098 trainable parameters\n",
      "\n",
      "Epoch 1/25   lr=5.0e-04   t=42s   loss=0.358   dice=0.001   val_loss=0.265   val_acc=0.746\n",
      "Epoch 2/25   lr=4.9e-04   t=42s   loss=0.211   dice=0.151   val_loss=0.177   val_acc=0.775\n",
      "Epoch 3/25   lr=4.9e-04   t=42s   loss=0.138   dice=0.424   val_loss=0.131   val_acc=0.743\n",
      "Epoch 4/25   lr=4.8e-04   t=42s   loss=0.101   dice=0.495   val_loss=0.105   val_acc=0.778\n",
      "Epoch 5/25   lr=4.6e-04   t=42s   loss=0.079   dice=0.499   val_loss=0.091   val_acc=0.788\n",
      "Epoch 6/25   lr=4.5e-04   t=42s   loss=0.064   dice=0.506   val_loss=0.088   val_acc=0.734\n",
      "Epoch 7/25   lr=4.3e-04   t=42s   loss=0.052   dice=0.513   val_loss=0.076   val_acc=0.791\n",
      "Epoch 8/25   lr=4.1e-04   t=44s   loss=0.047   dice=0.529   val_loss=0.074   val_acc=0.794\n",
      "Epoch 9/25   lr=3.9e-04   t=45s   loss=0.038   dice=0.533   val_loss=0.069   val_acc=0.824\n",
      "Epoch 10/25   lr=3.6e-04   t=43s   loss=0.037   dice=0.487   val_loss=0.080   val_acc=0.793\n",
      "Epoch 11/25   lr=3.4e-04   t=43s   loss=0.032   dice=0.551   val_loss=0.068   val_acc=0.822\n",
      "Epoch 12/25   lr=3.1e-04   t=43s   loss=0.029   dice=0.548   val_loss=0.084   val_acc=0.768\n",
      "Epoch 13/25   lr=2.9e-04   t=42s   loss=0.026   dice=0.563   val_loss=0.064   val_acc=0.834\n",
      "Epoch 14/25   lr=2.6e-04   t=42s   loss=0.024   dice=0.532   val_loss=0.066   val_acc=0.807\n",
      "Epoch 15/25   lr=2.4e-04   t=42s   loss=0.021   dice=0.565   val_loss=0.069   val_acc=0.814\n",
      "Epoch 16/25   lr=2.1e-04   t=42s   loss=0.020   dice=0.552   val_loss=0.066   val_acc=0.822\n",
      "Epoch 17/25   lr=1.9e-04   t=43s   loss=0.017   dice=0.572   val_loss=0.064   val_acc=0.840\n",
      "Epoch 18/25   lr=1.7e-04   t=42s   loss=0.015   dice=0.585   val_loss=0.062   val_acc=0.840\n",
      "Epoch 19/25   lr=1.5e-04   t=42s   loss=0.015   dice=0.578   val_loss=0.067   val_acc=0.827\n",
      "Epoch 20/25   lr=1.4e-04   t=42s   loss=0.014   dice=0.571   val_loss=0.067   val_acc=0.836\n",
      "Epoch 21/25   lr=1.2e-04   t=42s   loss=0.012   dice=0.554   val_loss=0.064   val_acc=0.846\n",
      "Epoch 22/25   lr=1.1e-04   t=42s   loss=0.012   dice=0.589   val_loss=0.065   val_acc=0.844\n",
      "Epoch 23/25   lr=1.1e-04   t=42s   loss=0.011   dice=0.582   val_loss=0.067   val_acc=0.837\n",
      "Epoch 24/25   lr=1.0e-04   t=42s   loss=0.011   dice=0.583   val_loss=0.066   val_acc=0.843\n",
      "Epoch 25/25   lr=1.0e-04   t=42s   loss=0.011   dice=0.576   val_loss=0.065   val_acc=0.848\n"
     ]
    },
    {
     "data": {
      "application/javascript": [
       "\n",
       "            setTimeout(function() {\n",
       "                var nbb_cell_id = 30;\n",
       "                var nbb_unformatted_code = \"hparams = {\\n    \\\"batch_size\\\": 32,\\n    \\\"lr_frozen\\\": 0.5*1e-3,\\n    \\\"lr_min_frozen\\\": 1e-4,\\n    \\\"epoch_frozen\\\": 3,\\n    \\\"epoch\\\": 25,\\n    \\\"lr\\\": 0.5*1e-3,\\n    \\\"lr_min\\\": 1e-4,\\n}\\nmodel_training(\\n    backbone, df_train, df_val, ratio=ratio, seed=seed, save=False, cp=False, **hparams\\n)\";\n",
       "                var nbb_formatted_code = \"hparams = {\\n    \\\"batch_size\\\": 32,\\n    \\\"lr_frozen\\\": 0.5 * 1e-3,\\n    \\\"lr_min_frozen\\\": 1e-4,\\n    \\\"epoch_frozen\\\": 3,\\n    \\\"epoch\\\": 25,\\n    \\\"lr\\\": 0.5 * 1e-3,\\n    \\\"lr_min\\\": 1e-4,\\n}\\nmodel_training(\\n    backbone, df_train, df_val, ratio=ratio, seed=seed, save=False, cp=False, **hparams\\n)\";\n",
       "                var nbb_cells = Jupyter.notebook.get_cells();\n",
       "                for (var i = 0; i < nbb_cells.length; ++i) {\n",
       "                    if (nbb_cells[i].input_prompt_number == nbb_cell_id) {\n",
       "                        if (nbb_cells[i].get_text() == nbb_unformatted_code) {\n",
       "                             nbb_cells[i].set_text(nbb_formatted_code);\n",
       "                        }\n",
       "                        break;\n",
       "                    }\n",
       "                }\n",
       "            }, 500);\n",
       "            "
      ],
      "text/plain": [
       "<IPython.core.display.Javascript object>"
      ]
     },
     "metadata": {},
     "output_type": "display_data"
    }
   ],
   "source": [
    "hparams = {\n",
    "    \"batch_size\": 32,\n",
    "    \"lr_frozen\": 0.5 * 1e-3,\n",
    "    \"lr_min_frozen\": 1e-4,\n",
    "    \"epoch_frozen\": 3,\n",
    "    \"epoch\": 25,\n",
    "    \"lr\": 0.5 * 1e-3,\n",
    "    \"lr_min\": 1e-4,\n",
    "}\n",
    "model_training(\n",
    "    backbone, df_train, df_val, ratio=ratio, seed=seed, save=False, cp=False, **hparams\n",
    ")"
   ]
  },
  {
   "cell_type": "code",
   "execution_count": 31,
   "metadata": {},
   "outputs": [
    {
     "name": "stdout",
     "output_type": "stream",
     "text": [
      "\n",
      " - Training with frozen encoder \n",
      "\t -> 4920450 trainable parameters\n",
      "\n",
      "Epoch 1/5   lr=9.1e-04   t=40s   loss=2.071   dice=0.013   val_loss=0.555   val_acc=0.603\n",
      "Epoch 2/5   lr=6.9e-04   t=40s   loss=0.351   dice=0.004   val_loss=0.238   val_acc=0.692\n",
      "Epoch 3/5   lr=4.1e-04   t=40s   loss=0.210   dice=0.017   val_loss=0.180   val_acc=0.691\n",
      "Epoch 4/5   lr=1.9e-04   t=40s   loss=0.168   dice=0.077   val_loss=0.163   val_acc=0.719\n",
      "Epoch 5/5   lr=1.0e-04   t=40s   loss=0.153   dice=0.125   val_loss=0.152   val_acc=0.715\n",
      "\n",
      " - Training full model \n",
      "\t -> 26188098 trainable parameters\n",
      "\n",
      "Epoch 1/30   lr=1.0e-03   t=42s   loss=0.125   dice=0.369   val_loss=0.099   val_acc=0.768\n",
      "Epoch 2/30   lr=9.9e-04   t=42s   loss=0.085   dice=0.485   val_loss=0.083   val_acc=0.739\n",
      "Epoch 3/30   lr=9.8e-04   t=42s   loss=0.067   dice=0.463   val_loss=0.086   val_acc=0.671\n",
      "Epoch 4/30   lr=9.6e-04   t=42s   loss=0.057   dice=0.473   val_loss=0.073   val_acc=0.775\n",
      "Epoch 5/30   lr=9.3e-04   t=43s   loss=0.052   dice=0.504   val_loss=0.082   val_acc=0.718\n",
      "Epoch 6/30   lr=9.0e-04   t=42s   loss=0.048   dice=0.540   val_loss=0.065   val_acc=0.787\n",
      "Epoch 7/30   lr=8.7e-04   t=42s   loss=0.043   dice=0.538   val_loss=0.073   val_acc=0.759\n",
      "Epoch 8/30   lr=8.4e-04   t=42s   loss=0.040   dice=0.558   val_loss=0.064   val_acc=0.804\n",
      "Epoch 9/30   lr=7.9e-04   t=42s   loss=0.037   dice=0.531   val_loss=0.088   val_acc=0.735\n",
      "Epoch 10/30   lr=7.5e-04   t=43s   loss=0.034   dice=0.505   val_loss=0.064   val_acc=0.806\n",
      "Epoch 11/30   lr=7.0e-04   t=43s   loss=0.029   dice=0.535   val_loss=0.061   val_acc=0.811\n",
      "Epoch 12/30   lr=6.6e-04   t=45s   loss=0.026   dice=0.537   val_loss=0.074   val_acc=0.769\n",
      "Epoch 13/30   lr=6.1e-04   t=43s   loss=0.025   dice=0.534   val_loss=0.102   val_acc=0.707\n",
      "Epoch 14/30   lr=5.5e-04   t=42s   loss=0.023   dice=0.528   val_loss=0.064   val_acc=0.822\n",
      "Epoch 15/30   lr=5.0e-04   t=42s   loss=0.020   dice=0.524   val_loss=0.072   val_acc=0.800\n",
      "Epoch 16/30   lr=4.5e-04   t=42s   loss=0.016   dice=0.542   val_loss=0.067   val_acc=0.821\n",
      "Epoch 17/30   lr=4.0e-04   t=42s   loss=0.017   dice=0.541   val_loss=0.068   val_acc=0.819\n",
      "Epoch 18/30   lr=3.5e-04   t=42s   loss=0.015   dice=0.584   val_loss=0.060   val_acc=0.845\n",
      "Epoch 19/30   lr=3.0e-04   t=42s   loss=0.012   dice=0.566   val_loss=0.066   val_acc=0.831\n",
      "Epoch 20/30   lr=2.5e-04   t=44s   loss=0.011   dice=0.578   val_loss=0.071   val_acc=0.819\n",
      "Epoch 21/30   lr=2.1e-04   t=44s   loss=0.010   dice=0.589   val_loss=0.068   val_acc=0.838\n",
      "Epoch 22/30   lr=1.7e-04   t=42s   loss=0.009   dice=0.575   val_loss=0.067   val_acc=0.841\n",
      "Epoch 23/30   lr=1.3e-04   t=42s   loss=0.009   dice=0.588   val_loss=0.070   val_acc=0.839\n",
      "Epoch 24/30   lr=1.0e-04   t=42s   loss=0.009   dice=0.595   val_loss=0.072   val_acc=0.831\n",
      "Epoch 25/30   lr=7.2e-05   t=42s   loss=0.008   dice=0.594   val_loss=0.069   val_acc=0.840\n",
      "Epoch 26/30   lr=4.8e-05   t=42s   loss=0.008   dice=0.587   val_loss=0.068   val_acc=0.842\n",
      "Epoch 27/30   lr=2.9e-05   t=42s   loss=0.008   dice=0.591   val_loss=0.068   val_acc=0.843\n",
      "Epoch 28/30   lr=1.6e-05   t=42s   loss=0.008   dice=0.592   val_loss=0.069   val_acc=0.842\n",
      "Epoch 29/30   lr=7.7e-06   t=42s   loss=0.008   dice=0.590   val_loss=0.068   val_acc=0.844\n",
      "Epoch 30/30   lr=5.0e-06   t=43s   loss=0.008   dice=0.590   val_loss=0.069   val_acc=0.843\n"
     ]
    },
    {
     "data": {
      "application/javascript": [
       "\n",
       "            setTimeout(function() {\n",
       "                var nbb_cell_id = 31;\n",
       "                var nbb_unformatted_code = \"hparams = {\\n    \\\"batch_size\\\": 32,\\n    \\\"lr_frozen\\\": 1e-3,\\n    \\\"lr_min_frozen\\\": 1e-4,\\n    \\\"epoch_frozen\\\": 5,\\n    \\\"epoch\\\": 30,\\n    \\\"lr\\\": 1e-3,\\n    \\\"lr_min\\\": 0.5*1e-5,\\n}\\nmodel_training(\\n    backbone, df_train, df_val, ratio=ratio, seed=seed, save=False, cp=False, **hparams\\n)\";\n",
       "                var nbb_formatted_code = \"hparams = {\\n    \\\"batch_size\\\": 32,\\n    \\\"lr_frozen\\\": 1e-3,\\n    \\\"lr_min_frozen\\\": 1e-4,\\n    \\\"epoch_frozen\\\": 5,\\n    \\\"epoch\\\": 30,\\n    \\\"lr\\\": 1e-3,\\n    \\\"lr_min\\\": 0.5 * 1e-5,\\n}\\nmodel_training(\\n    backbone, df_train, df_val, ratio=ratio, seed=seed, save=False, cp=False, **hparams\\n)\";\n",
       "                var nbb_cells = Jupyter.notebook.get_cells();\n",
       "                for (var i = 0; i < nbb_cells.length; ++i) {\n",
       "                    if (nbb_cells[i].input_prompt_number == nbb_cell_id) {\n",
       "                        if (nbb_cells[i].get_text() == nbb_unformatted_code) {\n",
       "                             nbb_cells[i].set_text(nbb_formatted_code);\n",
       "                        }\n",
       "                        break;\n",
       "                    }\n",
       "                }\n",
       "            }, 500);\n",
       "            "
      ],
      "text/plain": [
       "<IPython.core.display.Javascript object>"
      ]
     },
     "metadata": {},
     "output_type": "display_data"
    }
   ],
   "source": [
    "hparams = {\n",
    "    \"batch_size\": 32,\n",
    "    \"lr_frozen\": 1e-3,\n",
    "    \"lr_min_frozen\": 1e-4,\n",
    "    \"epoch_frozen\": 5,\n",
    "    \"epoch\": 30,\n",
    "    \"lr\": 1e-3,\n",
    "    \"lr_min\": 0.5 * 1e-5,\n",
    "}\n",
    "model_training(\n",
    "    backbone, df_train, df_val, ratio=ratio, seed=seed, save=False, cp=False, **hparams\n",
    ")"
   ]
  },
  {
   "cell_type": "code",
   "execution_count": 32,
   "metadata": {},
   "outputs": [
    {
     "name": "stdout",
     "output_type": "stream",
     "text": [
      "\n",
      " - Training with frozen encoder \n",
      "\t -> 4920450 trainable parameters\n",
      "\n",
      "Epoch 1/3   lr=4.0e-04   t=42s   loss=2.953   dice=0.012   val_loss=1.718   val_acc=0.558\n",
      "Epoch 2/3   lr=2.0e-04   t=40s   loss=0.945   dice=0.011   val_loss=0.625   val_acc=0.627\n",
      "Epoch 3/3   lr=1.0e-04   t=41s   loss=0.580   dice=0.012   val_loss=0.483   val_acc=0.653\n",
      "\n",
      " - Training full model \n",
      "\t -> 26188098 trainable parameters\n",
      "\n",
      "Epoch 1/40   lr=5.0e-04   t=41s   loss=0.358   dice=0.001   val_loss=0.265   val_acc=0.719\n",
      "Epoch 2/40   lr=5.0e-04   t=42s   loss=0.211   dice=0.189   val_loss=0.184   val_acc=0.678\n",
      "Epoch 3/40   lr=4.9e-04   t=42s   loss=0.139   dice=0.311   val_loss=0.129   val_acc=0.782\n",
      "Epoch 4/40   lr=4.9e-04   t=42s   loss=0.100   dice=0.479   val_loss=0.102   val_acc=0.791\n",
      "Epoch 5/40   lr=4.8e-04   t=42s   loss=0.078   dice=0.498   val_loss=0.095   val_acc=0.751\n",
      "Epoch 6/40   lr=4.8e-04   t=42s   loss=0.064   dice=0.507   val_loss=0.079   val_acc=0.813\n",
      "Epoch 7/40   lr=4.7e-04   t=42s   loss=0.052   dice=0.508   val_loss=0.081   val_acc=0.768\n",
      "Epoch 8/40   lr=4.6e-04   t=42s   loss=0.051   dice=0.539   val_loss=0.085   val_acc=0.733\n",
      "Epoch 9/40   lr=4.5e-04   t=42s   loss=0.039   dice=0.519   val_loss=0.076   val_acc=0.779\n",
      "Epoch 10/40   lr=4.3e-04   t=42s   loss=0.040   dice=0.531   val_loss=0.086   val_acc=0.717\n",
      "Epoch 11/40   lr=4.2e-04   t=42s   loss=0.035   dice=0.439   val_loss=0.083   val_acc=0.775\n",
      "Epoch 12/40   lr=4.1e-04   t=42s   loss=0.031   dice=0.534   val_loss=0.066   val_acc=0.816\n",
      "Epoch 13/40   lr=3.9e-04   t=42s   loss=0.028   dice=0.550   val_loss=0.066   val_acc=0.793\n",
      "Epoch 14/40   lr=3.8e-04   t=42s   loss=0.025   dice=0.514   val_loss=0.071   val_acc=0.781\n",
      "Epoch 15/40   lr=3.6e-04   t=42s   loss=0.024   dice=0.521   val_loss=0.067   val_acc=0.818\n",
      "Epoch 16/40   lr=3.4e-04   t=42s   loss=0.022   dice=0.519   val_loss=0.068   val_acc=0.812\n",
      "Epoch 17/40   lr=3.3e-04   t=42s   loss=0.022   dice=0.536   val_loss=0.065   val_acc=0.824\n",
      "Epoch 18/40   lr=3.1e-04   t=42s   loss=0.022   dice=0.514   val_loss=0.068   val_acc=0.804\n",
      "Epoch 19/40   lr=2.9e-04   t=42s   loss=0.022   dice=0.552   val_loss=0.064   val_acc=0.821\n",
      "Epoch 20/40   lr=2.7e-04   t=42s   loss=0.018   dice=0.519   val_loss=0.070   val_acc=0.800\n",
      "Epoch 21/40   lr=2.6e-04   t=42s   loss=0.016   dice=0.552   val_loss=0.064   val_acc=0.833\n",
      "Epoch 22/40   lr=2.4e-04   t=42s   loss=0.013   dice=0.565   val_loss=0.065   val_acc=0.832\n",
      "Epoch 23/40   lr=2.2e-04   t=42s   loss=0.012   dice=0.581   val_loss=0.067   val_acc=0.836\n",
      "Epoch 24/40   lr=2.1e-04   t=42s   loss=0.011   dice=0.572   val_loss=0.068   val_acc=0.841\n",
      "Epoch 25/40   lr=1.9e-04   t=42s   loss=0.010   dice=0.562   val_loss=0.072   val_acc=0.821\n",
      "Epoch 26/40   lr=1.7e-04   t=43s   loss=0.010   dice=0.579   val_loss=0.071   val_acc=0.836\n",
      "Epoch 27/40   lr=1.6e-04   t=42s   loss=0.009   dice=0.577   val_loss=0.069   val_acc=0.842\n",
      "Epoch 28/40   lr=1.4e-04   t=42s   loss=0.009   dice=0.573   val_loss=0.069   val_acc=0.842\n",
      "Epoch 29/40   lr=1.3e-04   t=42s   loss=0.009   dice=0.595   val_loss=0.078   val_acc=0.829\n",
      "Epoch 30/40   lr=1.2e-04   t=42s   loss=0.009   dice=0.573   val_loss=0.068   val_acc=0.843\n",
      "Epoch 31/40   lr=1.0e-04   t=42s   loss=0.008   dice=0.589   val_loss=0.069   val_acc=0.845\n",
      "Epoch 32/40   lr=9.3e-05   t=42s   loss=0.008   dice=0.582   val_loss=0.069   val_acc=0.840\n",
      "Epoch 33/40   lr=8.3e-05   t=42s   loss=0.007   dice=0.577   val_loss=0.070   val_acc=0.842\n",
      "Epoch 34/40   lr=7.5e-05   t=42s   loss=0.007   dice=0.594   val_loss=0.070   val_acc=0.847\n",
      "Epoch 35/40   lr=6.7e-05   t=42s   loss=0.007   dice=0.583   val_loss=0.071   val_acc=0.845\n",
      "Epoch 36/40   lr=6.1e-05   t=42s   loss=0.007   dice=0.596   val_loss=0.072   val_acc=0.843\n",
      "Epoch 37/40   lr=5.6e-05   t=42s   loss=0.007   dice=0.576   val_loss=0.070   val_acc=0.847\n",
      "Epoch 38/40   lr=5.3e-05   t=42s   loss=0.007   dice=0.584   val_loss=0.071   val_acc=0.844\n",
      "Epoch 39/40   lr=5.1e-05   t=42s   loss=0.006   dice=0.591   val_loss=0.071   val_acc=0.845\n",
      "Epoch 40/40   lr=5.0e-05   t=42s   loss=0.006   dice=0.593   val_loss=0.070   val_acc=0.845\n"
     ]
    },
    {
     "data": {
      "application/javascript": [
       "\n",
       "            setTimeout(function() {\n",
       "                var nbb_cell_id = 32;\n",
       "                var nbb_unformatted_code = \"hparams = {\\n    \\\"batch_size\\\": 32,\\n    \\\"lr_frozen\\\": 0.5 * 1e-3,\\n    \\\"lr_min_frozen\\\": 1e-4,\\n    \\\"epoch_frozen\\\": 3,\\n    \\\"epoch\\\": 40,\\n    \\\"lr\\\": 0.5 * 1e-3,\\n    \\\"lr_min\\\": 0.5 * 1e-4,\\n}\\nmodel_training(\\n    backbone, df_train, df_val, ratio=ratio, seed=seed, save=False, cp=False, **hparams\\n)\";\n",
       "                var nbb_formatted_code = \"hparams = {\\n    \\\"batch_size\\\": 32,\\n    \\\"lr_frozen\\\": 0.5 * 1e-3,\\n    \\\"lr_min_frozen\\\": 1e-4,\\n    \\\"epoch_frozen\\\": 3,\\n    \\\"epoch\\\": 40,\\n    \\\"lr\\\": 0.5 * 1e-3,\\n    \\\"lr_min\\\": 0.5 * 1e-4,\\n}\\nmodel_training(\\n    backbone, df_train, df_val, ratio=ratio, seed=seed, save=False, cp=False, **hparams\\n)\";\n",
       "                var nbb_cells = Jupyter.notebook.get_cells();\n",
       "                for (var i = 0; i < nbb_cells.length; ++i) {\n",
       "                    if (nbb_cells[i].input_prompt_number == nbb_cell_id) {\n",
       "                        if (nbb_cells[i].get_text() == nbb_unformatted_code) {\n",
       "                             nbb_cells[i].set_text(nbb_formatted_code);\n",
       "                        }\n",
       "                        break;\n",
       "                    }\n",
       "                }\n",
       "            }, 500);\n",
       "            "
      ],
      "text/plain": [
       "<IPython.core.display.Javascript object>"
      ]
     },
     "metadata": {},
     "output_type": "display_data"
    }
   ],
   "source": [
    "hparams = {\n",
    "    \"batch_size\": 32,\n",
    "    \"lr_frozen\": 0.5 * 1e-3,\n",
    "    \"lr_min_frozen\": 1e-4,\n",
    "    \"epoch_frozen\": 3,\n",
    "    \"epoch\": 40,\n",
    "    \"lr\": 0.5 * 1e-3,\n",
    "    \"lr_min\": 0.5 * 1e-4,\n",
    "}\n",
    "model_training(\n",
    "    backbone, df_train, df_val, ratio=ratio, seed=seed, save=False, cp=False, **hparams\n",
    ")"
   ]
  },
  {
   "cell_type": "code",
   "execution_count": null,
   "metadata": {},
   "outputs": [],
   "source": []
  }
 ],
 "metadata": {
  "kernelspec": {
   "display_name": "Python 3",
   "language": "python",
   "name": "python3"
  },
  "language_info": {
   "codemirror_mode": {
    "name": "ipython",
    "version": 3
   },
   "file_extension": ".py",
   "mimetype": "text/x-python",
   "name": "python",
   "nbconvert_exporter": "python",
   "pygments_lexer": "ipython3",
   "version": "3.7.6"
  },
  "widgets": {
   "application/vnd.jupyter.widget-state+json": {
    "state": {
     "0103f44c21204c58995ff33fdc20e2cb": {
      "model_module": "@jupyter-widgets/controls",
      "model_module_version": "1.5.0",
      "model_name": "HTMLModel",
      "state": {
       "_dom_classes": [],
       "_model_module": "@jupyter-widgets/controls",
       "_model_module_version": "1.5.0",
       "_model_name": "HTMLModel",
       "_view_count": null,
       "_view_module": "@jupyter-widgets/controls",
       "_view_module_version": "1.5.0",
       "_view_name": "HTMLView",
       "description": "",
       "description_tooltip": null,
       "layout": "IPY_MODEL_29e274d16822487cb78dd24ce31b6270",
       "placeholder": "​",
       "style": "IPY_MODEL_d4a9d58c0a3b40f391d7eaba5568a475",
       "value": " 12568/12568 [02:00&lt;00:00, 104.44it/s]"
      }
     },
     "09cc932e246f4437a3d8f55cc0a0b90e": {
      "model_module": "@jupyter-widgets/controls",
      "model_module_version": "1.5.0",
      "model_name": "IntProgressModel",
      "state": {
       "_dom_classes": [],
       "_model_module": "@jupyter-widgets/controls",
       "_model_module_version": "1.5.0",
       "_model_name": "IntProgressModel",
       "_view_count": null,
       "_view_module": "@jupyter-widgets/controls",
       "_view_module_version": "1.5.0",
       "_view_name": "ProgressView",
       "bar_style": "success",
       "description": "100%",
       "description_tooltip": null,
       "layout": "IPY_MODEL_f0ce1dece7ff41f9965330330e887f62",
       "max": 315,
       "min": 0,
       "orientation": "horizontal",
       "style": "IPY_MODEL_0f21c95757194e08a593a63f580c83fb",
       "value": 315
      }
     },
     "0f21c95757194e08a593a63f580c83fb": {
      "model_module": "@jupyter-widgets/controls",
      "model_module_version": "1.5.0",
      "model_name": "ProgressStyleModel",
      "state": {
       "_model_module": "@jupyter-widgets/controls",
       "_model_module_version": "1.5.0",
       "_model_name": "ProgressStyleModel",
       "_view_count": null,
       "_view_module": "@jupyter-widgets/base",
       "_view_module_version": "1.2.0",
       "_view_name": "StyleView",
       "bar_color": null,
       "description_width": "initial"
      }
     },
     "19a5a6a3549b4f0290e9ceedcea74191": {
      "model_module": "@jupyter-widgets/controls",
      "model_module_version": "1.5.0",
      "model_name": "DescriptionStyleModel",
      "state": {
       "_model_module": "@jupyter-widgets/controls",
       "_model_module_version": "1.5.0",
       "_model_name": "DescriptionStyleModel",
       "_view_count": null,
       "_view_module": "@jupyter-widgets/base",
       "_view_module_version": "1.2.0",
       "_view_name": "StyleView",
       "description_width": ""
      }
     },
     "1b67758cbd45435088b39198158d40a3": {
      "model_module": "@jupyter-widgets/base",
      "model_module_version": "1.2.0",
      "model_name": "LayoutModel",
      "state": {
       "_model_module": "@jupyter-widgets/base",
       "_model_module_version": "1.2.0",
       "_model_name": "LayoutModel",
       "_view_count": null,
       "_view_module": "@jupyter-widgets/base",
       "_view_module_version": "1.2.0",
       "_view_name": "LayoutView",
       "align_content": null,
       "align_items": null,
       "align_self": null,
       "border": null,
       "bottom": null,
       "display": null,
       "flex": null,
       "flex_flow": null,
       "grid_area": null,
       "grid_auto_columns": null,
       "grid_auto_flow": null,
       "grid_auto_rows": null,
       "grid_column": null,
       "grid_gap": null,
       "grid_row": null,
       "grid_template_areas": null,
       "grid_template_columns": null,
       "grid_template_rows": null,
       "height": null,
       "justify_content": null,
       "justify_items": null,
       "left": null,
       "margin": null,
       "max_height": null,
       "max_width": null,
       "min_height": null,
       "min_width": null,
       "object_fit": null,
       "object_position": null,
       "order": null,
       "overflow": null,
       "overflow_x": null,
       "overflow_y": null,
       "padding": null,
       "right": null,
       "top": null,
       "visibility": null,
       "width": null
      }
     },
     "1bb6ee453aa6425599228d79f71615f1": {
      "model_module": "@jupyter-widgets/base",
      "model_module_version": "1.2.0",
      "model_name": "LayoutModel",
      "state": {
       "_model_module": "@jupyter-widgets/base",
       "_model_module_version": "1.2.0",
       "_model_name": "LayoutModel",
       "_view_count": null,
       "_view_module": "@jupyter-widgets/base",
       "_view_module_version": "1.2.0",
       "_view_name": "LayoutView",
       "align_content": null,
       "align_items": null,
       "align_self": null,
       "border": null,
       "bottom": null,
       "display": null,
       "flex": null,
       "flex_flow": null,
       "grid_area": null,
       "grid_auto_columns": null,
       "grid_auto_flow": null,
       "grid_auto_rows": null,
       "grid_column": null,
       "grid_gap": null,
       "grid_row": null,
       "grid_template_areas": null,
       "grid_template_columns": null,
       "grid_template_rows": null,
       "height": null,
       "justify_content": null,
       "justify_items": null,
       "left": null,
       "margin": null,
       "max_height": null,
       "max_width": null,
       "min_height": null,
       "min_width": null,
       "object_fit": null,
       "object_position": null,
       "order": null,
       "overflow": null,
       "overflow_x": null,
       "overflow_y": null,
       "padding": null,
       "right": null,
       "top": null,
       "visibility": null,
       "width": null
      }
     },
     "1c81b1805f764c5d831b25222ee3ccaa": {
      "model_module": "@jupyter-widgets/controls",
      "model_module_version": "1.5.0",
      "model_name": "IntProgressModel",
      "state": {
       "_dom_classes": [],
       "_model_module": "@jupyter-widgets/controls",
       "_model_module_version": "1.5.0",
       "_model_name": "IntProgressModel",
       "_view_count": null,
       "_view_module": "@jupyter-widgets/controls",
       "_view_module_version": "1.5.0",
       "_view_name": "ProgressView",
       "bar_style": "success",
       "description": "100%",
       "description_tooltip": null,
       "layout": "IPY_MODEL_90da3e94c0ea484b8eb26b2d5f9ca563",
       "max": 158,
       "min": 0,
       "orientation": "horizontal",
       "style": "IPY_MODEL_db564fccaf3b4247bca0a383b6e9df85",
       "value": 158
      }
     },
     "29e274d16822487cb78dd24ce31b6270": {
      "model_module": "@jupyter-widgets/base",
      "model_module_version": "1.2.0",
      "model_name": "LayoutModel",
      "state": {
       "_model_module": "@jupyter-widgets/base",
       "_model_module_version": "1.2.0",
       "_model_name": "LayoutModel",
       "_view_count": null,
       "_view_module": "@jupyter-widgets/base",
       "_view_module_version": "1.2.0",
       "_view_name": "LayoutView",
       "align_content": null,
       "align_items": null,
       "align_self": null,
       "border": null,
       "bottom": null,
       "display": null,
       "flex": null,
       "flex_flow": null,
       "grid_area": null,
       "grid_auto_columns": null,
       "grid_auto_flow": null,
       "grid_auto_rows": null,
       "grid_column": null,
       "grid_gap": null,
       "grid_row": null,
       "grid_template_areas": null,
       "grid_template_columns": null,
       "grid_template_rows": null,
       "height": null,
       "justify_content": null,
       "justify_items": null,
       "left": null,
       "margin": null,
       "max_height": null,
       "max_width": null,
       "min_height": null,
       "min_width": null,
       "object_fit": null,
       "object_position": null,
       "order": null,
       "overflow": null,
       "overflow_x": null,
       "overflow_y": null,
       "padding": null,
       "right": null,
       "top": null,
       "visibility": null,
       "width": null
      }
     },
     "34d76def63ce4b99ae7a6beb58bb2e53": {
      "model_module": "@jupyter-widgets/controls",
      "model_module_version": "1.5.0",
      "model_name": "ProgressStyleModel",
      "state": {
       "_model_module": "@jupyter-widgets/controls",
       "_model_module_version": "1.5.0",
       "_model_name": "ProgressStyleModel",
       "_view_count": null,
       "_view_module": "@jupyter-widgets/base",
       "_view_module_version": "1.2.0",
       "_view_name": "StyleView",
       "bar_color": null,
       "description_width": "initial"
      }
     },
     "35d927a0fc064ad9bffa8a48d8a0d35d": {
      "model_module": "@jupyter-widgets/controls",
      "model_module_version": "1.5.0",
      "model_name": "ProgressStyleModel",
      "state": {
       "_model_module": "@jupyter-widgets/controls",
       "_model_module_version": "1.5.0",
       "_model_name": "ProgressStyleModel",
       "_view_count": null,
       "_view_module": "@jupyter-widgets/base",
       "_view_module_version": "1.2.0",
       "_view_name": "StyleView",
       "bar_color": null,
       "description_width": "initial"
      }
     },
     "3b84b450face4ef9b1e2e5e08174199d": {
      "model_module": "@jupyter-widgets/base",
      "model_module_version": "1.2.0",
      "model_name": "LayoutModel",
      "state": {
       "_model_module": "@jupyter-widgets/base",
       "_model_module_version": "1.2.0",
       "_model_name": "LayoutModel",
       "_view_count": null,
       "_view_module": "@jupyter-widgets/base",
       "_view_module_version": "1.2.0",
       "_view_name": "LayoutView",
       "align_content": null,
       "align_items": null,
       "align_self": null,
       "border": null,
       "bottom": null,
       "display": null,
       "flex": null,
       "flex_flow": null,
       "grid_area": null,
       "grid_auto_columns": null,
       "grid_auto_flow": null,
       "grid_auto_rows": null,
       "grid_column": null,
       "grid_gap": null,
       "grid_row": null,
       "grid_template_areas": null,
       "grid_template_columns": null,
       "grid_template_rows": null,
       "height": null,
       "justify_content": null,
       "justify_items": null,
       "left": null,
       "margin": null,
       "max_height": null,
       "max_width": null,
       "min_height": null,
       "min_width": null,
       "object_fit": null,
       "object_position": null,
       "order": null,
       "overflow": null,
       "overflow_x": null,
       "overflow_y": null,
       "padding": null,
       "right": null,
       "top": null,
       "visibility": null,
       "width": null
      }
     },
     "40d70fffcb714f048812c938b38dba51": {
      "model_module": "@jupyter-widgets/controls",
      "model_module_version": "1.5.0",
      "model_name": "IntProgressModel",
      "state": {
       "_dom_classes": [],
       "_model_module": "@jupyter-widgets/controls",
       "_model_module_version": "1.5.0",
       "_model_name": "IntProgressModel",
       "_view_count": null,
       "_view_module": "@jupyter-widgets/controls",
       "_view_module_version": "1.5.0",
       "_view_name": "ProgressView",
       "bar_style": "success",
       "description": "100%",
       "description_tooltip": null,
       "layout": "IPY_MODEL_1bb6ee453aa6425599228d79f71615f1",
       "max": 1258,
       "min": 0,
       "orientation": "horizontal",
       "style": "IPY_MODEL_35d927a0fc064ad9bffa8a48d8a0d35d",
       "value": 1258
      }
     },
     "4b92298139c0452e84843a47e3b021fb": {
      "model_module": "@jupyter-widgets/controls",
      "model_module_version": "1.5.0",
      "model_name": "HTMLModel",
      "state": {
       "_dom_classes": [],
       "_model_module": "@jupyter-widgets/controls",
       "_model_module_version": "1.5.0",
       "_model_name": "HTMLModel",
       "_view_count": null,
       "_view_module": "@jupyter-widgets/controls",
       "_view_module_version": "1.5.0",
       "_view_name": "HTMLView",
       "description": "",
       "description_tooltip": null,
       "layout": "IPY_MODEL_532ef9a85f6b4befa82c4311321b5a2f",
       "placeholder": "​",
       "style": "IPY_MODEL_19a5a6a3549b4f0290e9ceedcea74191",
       "value": " 158/158 [07:12&lt;00:00,  2.74s/it]"
      }
     },
     "532ef9a85f6b4befa82c4311321b5a2f": {
      "model_module": "@jupyter-widgets/base",
      "model_module_version": "1.2.0",
      "model_name": "LayoutModel",
      "state": {
       "_model_module": "@jupyter-widgets/base",
       "_model_module_version": "1.2.0",
       "_model_name": "LayoutModel",
       "_view_count": null,
       "_view_module": "@jupyter-widgets/base",
       "_view_module_version": "1.2.0",
       "_view_name": "LayoutView",
       "align_content": null,
       "align_items": null,
       "align_self": null,
       "border": null,
       "bottom": null,
       "display": null,
       "flex": null,
       "flex_flow": null,
       "grid_area": null,
       "grid_auto_columns": null,
       "grid_auto_flow": null,
       "grid_auto_rows": null,
       "grid_column": null,
       "grid_gap": null,
       "grid_row": null,
       "grid_template_areas": null,
       "grid_template_columns": null,
       "grid_template_rows": null,
       "height": null,
       "justify_content": null,
       "justify_items": null,
       "left": null,
       "margin": null,
       "max_height": null,
       "max_width": null,
       "min_height": null,
       "min_width": null,
       "object_fit": null,
       "object_position": null,
       "order": null,
       "overflow": null,
       "overflow_x": null,
       "overflow_y": null,
       "padding": null,
       "right": null,
       "top": null,
       "visibility": null,
       "width": null
      }
     },
     "5a084077cb7243ada51a8aecb7d132dd": {
      "model_module": "@jupyter-widgets/base",
      "model_module_version": "1.2.0",
      "model_name": "LayoutModel",
      "state": {
       "_model_module": "@jupyter-widgets/base",
       "_model_module_version": "1.2.0",
       "_model_name": "LayoutModel",
       "_view_count": null,
       "_view_module": "@jupyter-widgets/base",
       "_view_module_version": "1.2.0",
       "_view_name": "LayoutView",
       "align_content": null,
       "align_items": null,
       "align_self": null,
       "border": null,
       "bottom": null,
       "display": null,
       "flex": null,
       "flex_flow": null,
       "grid_area": null,
       "grid_auto_columns": null,
       "grid_auto_flow": null,
       "grid_auto_rows": null,
       "grid_column": null,
       "grid_gap": null,
       "grid_row": null,
       "grid_template_areas": null,
       "grid_template_columns": null,
       "grid_template_rows": null,
       "height": null,
       "justify_content": null,
       "justify_items": null,
       "left": null,
       "margin": null,
       "max_height": null,
       "max_width": null,
       "min_height": null,
       "min_width": null,
       "object_fit": null,
       "object_position": null,
       "order": null,
       "overflow": null,
       "overflow_x": null,
       "overflow_y": null,
       "padding": null,
       "right": null,
       "top": null,
       "visibility": null,
       "width": null
      }
     },
     "5a91e3c513074b13b6d945b1d235e9c6": {
      "model_module": "@jupyter-widgets/base",
      "model_module_version": "1.2.0",
      "model_name": "LayoutModel",
      "state": {
       "_model_module": "@jupyter-widgets/base",
       "_model_module_version": "1.2.0",
       "_model_name": "LayoutModel",
       "_view_count": null,
       "_view_module": "@jupyter-widgets/base",
       "_view_module_version": "1.2.0",
       "_view_name": "LayoutView",
       "align_content": null,
       "align_items": null,
       "align_self": null,
       "border": null,
       "bottom": null,
       "display": null,
       "flex": null,
       "flex_flow": null,
       "grid_area": null,
       "grid_auto_columns": null,
       "grid_auto_flow": null,
       "grid_auto_rows": null,
       "grid_column": null,
       "grid_gap": null,
       "grid_row": null,
       "grid_template_areas": null,
       "grid_template_columns": null,
       "grid_template_rows": null,
       "height": null,
       "justify_content": null,
       "justify_items": null,
       "left": null,
       "margin": null,
       "max_height": null,
       "max_width": null,
       "min_height": null,
       "min_width": null,
       "object_fit": null,
       "object_position": null,
       "order": null,
       "overflow": null,
       "overflow_x": null,
       "overflow_y": null,
       "padding": null,
       "right": null,
       "top": null,
       "visibility": null,
       "width": null
      }
     },
     "5e354d28d205487f9ea902dcdbd91be7": {
      "model_module": "@jupyter-widgets/controls",
      "model_module_version": "1.5.0",
      "model_name": "IntProgressModel",
      "state": {
       "_dom_classes": [],
       "_model_module": "@jupyter-widgets/controls",
       "_model_module_version": "1.5.0",
       "_model_name": "IntProgressModel",
       "_view_count": null,
       "_view_module": "@jupyter-widgets/controls",
       "_view_module_version": "1.5.0",
       "_view_name": "ProgressView",
       "bar_style": "success",
       "description": "100%",
       "description_tooltip": null,
       "layout": "IPY_MODEL_5a91e3c513074b13b6d945b1d235e9c6",
       "max": 12568,
       "min": 0,
       "orientation": "horizontal",
       "style": "IPY_MODEL_34d76def63ce4b99ae7a6beb58bb2e53",
       "value": 12568
      }
     },
     "70400c1f20ca403cbeefb92bd6df0350": {
      "model_module": "@jupyter-widgets/base",
      "model_module_version": "1.2.0",
      "model_name": "LayoutModel",
      "state": {
       "_model_module": "@jupyter-widgets/base",
       "_model_module_version": "1.2.0",
       "_model_name": "LayoutModel",
       "_view_count": null,
       "_view_module": "@jupyter-widgets/base",
       "_view_module_version": "1.2.0",
       "_view_name": "LayoutView",
       "align_content": null,
       "align_items": null,
       "align_self": null,
       "border": null,
       "bottom": null,
       "display": null,
       "flex": null,
       "flex_flow": null,
       "grid_area": null,
       "grid_auto_columns": null,
       "grid_auto_flow": null,
       "grid_auto_rows": null,
       "grid_column": null,
       "grid_gap": null,
       "grid_row": null,
       "grid_template_areas": null,
       "grid_template_columns": null,
       "grid_template_rows": null,
       "height": null,
       "justify_content": null,
       "justify_items": null,
       "left": null,
       "margin": null,
       "max_height": null,
       "max_width": null,
       "min_height": null,
       "min_width": null,
       "object_fit": null,
       "object_position": null,
       "order": null,
       "overflow": null,
       "overflow_x": null,
       "overflow_y": null,
       "padding": null,
       "right": null,
       "top": null,
       "visibility": null,
       "width": null
      }
     },
     "7610e408645f4b899aeeb6e3eff07a84": {
      "model_module": "@jupyter-widgets/controls",
      "model_module_version": "1.5.0",
      "model_name": "HBoxModel",
      "state": {
       "_dom_classes": [],
       "_model_module": "@jupyter-widgets/controls",
       "_model_module_version": "1.5.0",
       "_model_name": "HBoxModel",
       "_view_count": null,
       "_view_module": "@jupyter-widgets/controls",
       "_view_module_version": "1.5.0",
       "_view_name": "HBoxView",
       "box_style": "",
       "children": [
        "IPY_MODEL_09cc932e246f4437a3d8f55cc0a0b90e",
        "IPY_MODEL_764bd09a48354407a68e0d4a4538ec4c"
       ],
       "layout": "IPY_MODEL_70400c1f20ca403cbeefb92bd6df0350"
      }
     },
     "764bd09a48354407a68e0d4a4538ec4c": {
      "model_module": "@jupyter-widgets/controls",
      "model_module_version": "1.5.0",
      "model_name": "HTMLModel",
      "state": {
       "_dom_classes": [],
       "_model_module": "@jupyter-widgets/controls",
       "_model_module_version": "1.5.0",
       "_model_name": "HTMLModel",
       "_view_count": null,
       "_view_module": "@jupyter-widgets/controls",
       "_view_module_version": "1.5.0",
       "_view_name": "HTMLView",
       "description": "",
       "description_tooltip": null,
       "layout": "IPY_MODEL_881d155a806c473392e119fdad4f7e38",
       "placeholder": "​",
       "style": "IPY_MODEL_d7990787bc194e73ab464f610088bdfa",
       "value": " 315/315 [03:14&lt;00:00,  1.62it/s]"
      }
     },
     "7d83cb239847474cb571d83b7d01d8d3": {
      "model_module": "@jupyter-widgets/base",
      "model_module_version": "1.2.0",
      "model_name": "LayoutModel",
      "state": {
       "_model_module": "@jupyter-widgets/base",
       "_model_module_version": "1.2.0",
       "_model_name": "LayoutModel",
       "_view_count": null,
       "_view_module": "@jupyter-widgets/base",
       "_view_module_version": "1.2.0",
       "_view_name": "LayoutView",
       "align_content": null,
       "align_items": null,
       "align_self": null,
       "border": null,
       "bottom": null,
       "display": null,
       "flex": null,
       "flex_flow": null,
       "grid_area": null,
       "grid_auto_columns": null,
       "grid_auto_flow": null,
       "grid_auto_rows": null,
       "grid_column": null,
       "grid_gap": null,
       "grid_row": null,
       "grid_template_areas": null,
       "grid_template_columns": null,
       "grid_template_rows": null,
       "height": null,
       "justify_content": null,
       "justify_items": null,
       "left": null,
       "margin": null,
       "max_height": null,
       "max_width": null,
       "min_height": null,
       "min_width": null,
       "object_fit": null,
       "object_position": null,
       "order": null,
       "overflow": null,
       "overflow_x": null,
       "overflow_y": null,
       "padding": null,
       "right": null,
       "top": null,
       "visibility": null,
       "width": null
      }
     },
     "80319d4047ce47d58de2c43aa2644116": {
      "model_module": "@jupyter-widgets/controls",
      "model_module_version": "1.5.0",
      "model_name": "ProgressStyleModel",
      "state": {
       "_model_module": "@jupyter-widgets/controls",
       "_model_module_version": "1.5.0",
       "_model_name": "ProgressStyleModel",
       "_view_count": null,
       "_view_module": "@jupyter-widgets/base",
       "_view_module_version": "1.2.0",
       "_view_name": "StyleView",
       "bar_color": null,
       "description_width": "initial"
      }
     },
     "881d155a806c473392e119fdad4f7e38": {
      "model_module": "@jupyter-widgets/base",
      "model_module_version": "1.2.0",
      "model_name": "LayoutModel",
      "state": {
       "_model_module": "@jupyter-widgets/base",
       "_model_module_version": "1.2.0",
       "_model_name": "LayoutModel",
       "_view_count": null,
       "_view_module": "@jupyter-widgets/base",
       "_view_module_version": "1.2.0",
       "_view_name": "LayoutView",
       "align_content": null,
       "align_items": null,
       "align_self": null,
       "border": null,
       "bottom": null,
       "display": null,
       "flex": null,
       "flex_flow": null,
       "grid_area": null,
       "grid_auto_columns": null,
       "grid_auto_flow": null,
       "grid_auto_rows": null,
       "grid_column": null,
       "grid_gap": null,
       "grid_row": null,
       "grid_template_areas": null,
       "grid_template_columns": null,
       "grid_template_rows": null,
       "height": null,
       "justify_content": null,
       "justify_items": null,
       "left": null,
       "margin": null,
       "max_height": null,
       "max_width": null,
       "min_height": null,
       "min_width": null,
       "object_fit": null,
       "object_position": null,
       "order": null,
       "overflow": null,
       "overflow_x": null,
       "overflow_y": null,
       "padding": null,
       "right": null,
       "top": null,
       "visibility": null,
       "width": null
      }
     },
     "8afa1def59984a90afe40857bccdadc9": {
      "model_module": "@jupyter-widgets/controls",
      "model_module_version": "1.5.0",
      "model_name": "DescriptionStyleModel",
      "state": {
       "_model_module": "@jupyter-widgets/controls",
       "_model_module_version": "1.5.0",
       "_model_name": "DescriptionStyleModel",
       "_view_count": null,
       "_view_module": "@jupyter-widgets/base",
       "_view_module_version": "1.2.0",
       "_view_name": "StyleView",
       "description_width": ""
      }
     },
     "90da3e94c0ea484b8eb26b2d5f9ca563": {
      "model_module": "@jupyter-widgets/base",
      "model_module_version": "1.2.0",
      "model_name": "LayoutModel",
      "state": {
       "_model_module": "@jupyter-widgets/base",
       "_model_module_version": "1.2.0",
       "_model_name": "LayoutModel",
       "_view_count": null,
       "_view_module": "@jupyter-widgets/base",
       "_view_module_version": "1.2.0",
       "_view_name": "LayoutView",
       "align_content": null,
       "align_items": null,
       "align_self": null,
       "border": null,
       "bottom": null,
       "display": null,
       "flex": null,
       "flex_flow": null,
       "grid_area": null,
       "grid_auto_columns": null,
       "grid_auto_flow": null,
       "grid_auto_rows": null,
       "grid_column": null,
       "grid_gap": null,
       "grid_row": null,
       "grid_template_areas": null,
       "grid_template_columns": null,
       "grid_template_rows": null,
       "height": null,
       "justify_content": null,
       "justify_items": null,
       "left": null,
       "margin": null,
       "max_height": null,
       "max_width": null,
       "min_height": null,
       "min_width": null,
       "object_fit": null,
       "object_position": null,
       "order": null,
       "overflow": null,
       "overflow_x": null,
       "overflow_y": null,
       "padding": null,
       "right": null,
       "top": null,
       "visibility": null,
       "width": null
      }
     },
     "97042c74a85743cc84321235976ec0e7": {
      "model_module": "@jupyter-widgets/controls",
      "model_module_version": "1.5.0",
      "model_name": "IntProgressModel",
      "state": {
       "_dom_classes": [],
       "_model_module": "@jupyter-widgets/controls",
       "_model_module_version": "1.5.0",
       "_model_name": "IntProgressModel",
       "_view_count": null,
       "_view_module": "@jupyter-widgets/controls",
       "_view_module_version": "1.5.0",
       "_view_name": "ProgressView",
       "bar_style": "success",
       "description": "100%",
       "description_tooltip": null,
       "layout": "IPY_MODEL_ac49827ae3f944fc99703ffb266f7b50",
       "max": 158,
       "min": 0,
       "orientation": "horizontal",
       "style": "IPY_MODEL_80319d4047ce47d58de2c43aa2644116",
       "value": 158
      }
     },
     "9ff269908ed449989f72656ceae74f90": {
      "model_module": "@jupyter-widgets/controls",
      "model_module_version": "1.5.0",
      "model_name": "HBoxModel",
      "state": {
       "_dom_classes": [],
       "_model_module": "@jupyter-widgets/controls",
       "_model_module_version": "1.5.0",
       "_model_name": "HBoxModel",
       "_view_count": null,
       "_view_module": "@jupyter-widgets/controls",
       "_view_module_version": "1.5.0",
       "_view_name": "HBoxView",
       "box_style": "",
       "children": [
        "IPY_MODEL_1c81b1805f764c5d831b25222ee3ccaa",
        "IPY_MODEL_af9bc1d73e1b493b84da2f5e6369d987"
       ],
       "layout": "IPY_MODEL_c9be7f2244014cf0bc6721118cc205ef"
      }
     },
     "a2923cef919645848c2433a0ab8c801a": {
      "model_module": "@jupyter-widgets/controls",
      "model_module_version": "1.5.0",
      "model_name": "HBoxModel",
      "state": {
       "_dom_classes": [],
       "_model_module": "@jupyter-widgets/controls",
       "_model_module_version": "1.5.0",
       "_model_name": "HBoxModel",
       "_view_count": null,
       "_view_module": "@jupyter-widgets/controls",
       "_view_module_version": "1.5.0",
       "_view_name": "HBoxView",
       "box_style": "",
       "children": [
        "IPY_MODEL_5e354d28d205487f9ea902dcdbd91be7",
        "IPY_MODEL_0103f44c21204c58995ff33fdc20e2cb"
       ],
       "layout": "IPY_MODEL_5a084077cb7243ada51a8aecb7d132dd"
      }
     },
     "ac49827ae3f944fc99703ffb266f7b50": {
      "model_module": "@jupyter-widgets/base",
      "model_module_version": "1.2.0",
      "model_name": "LayoutModel",
      "state": {
       "_model_module": "@jupyter-widgets/base",
       "_model_module_version": "1.2.0",
       "_model_name": "LayoutModel",
       "_view_count": null,
       "_view_module": "@jupyter-widgets/base",
       "_view_module_version": "1.2.0",
       "_view_name": "LayoutView",
       "align_content": null,
       "align_items": null,
       "align_self": null,
       "border": null,
       "bottom": null,
       "display": null,
       "flex": null,
       "flex_flow": null,
       "grid_area": null,
       "grid_auto_columns": null,
       "grid_auto_flow": null,
       "grid_auto_rows": null,
       "grid_column": null,
       "grid_gap": null,
       "grid_row": null,
       "grid_template_areas": null,
       "grid_template_columns": null,
       "grid_template_rows": null,
       "height": null,
       "justify_content": null,
       "justify_items": null,
       "left": null,
       "margin": null,
       "max_height": null,
       "max_width": null,
       "min_height": null,
       "min_width": null,
       "object_fit": null,
       "object_position": null,
       "order": null,
       "overflow": null,
       "overflow_x": null,
       "overflow_y": null,
       "padding": null,
       "right": null,
       "top": null,
       "visibility": null,
       "width": null
      }
     },
     "af9bc1d73e1b493b84da2f5e6369d987": {
      "model_module": "@jupyter-widgets/controls",
      "model_module_version": "1.5.0",
      "model_name": "HTMLModel",
      "state": {
       "_dom_classes": [],
       "_model_module": "@jupyter-widgets/controls",
       "_model_module_version": "1.5.0",
       "_model_name": "HTMLModel",
       "_view_count": null,
       "_view_module": "@jupyter-widgets/controls",
       "_view_module_version": "1.5.0",
       "_view_name": "HTMLView",
       "description": "",
       "description_tooltip": null,
       "layout": "IPY_MODEL_3b84b450face4ef9b1e2e5e08174199d",
       "placeholder": "​",
       "style": "IPY_MODEL_d046a52de844450bb3a6903982a3fcf6",
       "value": " 158/158 [03:35&lt;00:00,  1.37s/it]"
      }
     },
     "c9be7f2244014cf0bc6721118cc205ef": {
      "model_module": "@jupyter-widgets/base",
      "model_module_version": "1.2.0",
      "model_name": "LayoutModel",
      "state": {
       "_model_module": "@jupyter-widgets/base",
       "_model_module_version": "1.2.0",
       "_model_name": "LayoutModel",
       "_view_count": null,
       "_view_module": "@jupyter-widgets/base",
       "_view_module_version": "1.2.0",
       "_view_name": "LayoutView",
       "align_content": null,
       "align_items": null,
       "align_self": null,
       "border": null,
       "bottom": null,
       "display": null,
       "flex": null,
       "flex_flow": null,
       "grid_area": null,
       "grid_auto_columns": null,
       "grid_auto_flow": null,
       "grid_auto_rows": null,
       "grid_column": null,
       "grid_gap": null,
       "grid_row": null,
       "grid_template_areas": null,
       "grid_template_columns": null,
       "grid_template_rows": null,
       "height": null,
       "justify_content": null,
       "justify_items": null,
       "left": null,
       "margin": null,
       "max_height": null,
       "max_width": null,
       "min_height": null,
       "min_width": null,
       "object_fit": null,
       "object_position": null,
       "order": null,
       "overflow": null,
       "overflow_x": null,
       "overflow_y": null,
       "padding": null,
       "right": null,
       "top": null,
       "visibility": null,
       "width": null
      }
     },
     "cd1705a074e945d99545af303d3ec8a3": {
      "model_module": "@jupyter-widgets/controls",
      "model_module_version": "1.5.0",
      "model_name": "HBoxModel",
      "state": {
       "_dom_classes": [],
       "_model_module": "@jupyter-widgets/controls",
       "_model_module_version": "1.5.0",
       "_model_name": "HBoxModel",
       "_view_count": null,
       "_view_module": "@jupyter-widgets/controls",
       "_view_module_version": "1.5.0",
       "_view_name": "HBoxView",
       "box_style": "",
       "children": [
        "IPY_MODEL_40d70fffcb714f048812c938b38dba51",
        "IPY_MODEL_e644087c03ab4c22915c148fc294ace4"
       ],
       "layout": "IPY_MODEL_7d83cb239847474cb571d83b7d01d8d3"
      }
     },
     "d046a52de844450bb3a6903982a3fcf6": {
      "model_module": "@jupyter-widgets/controls",
      "model_module_version": "1.5.0",
      "model_name": "DescriptionStyleModel",
      "state": {
       "_model_module": "@jupyter-widgets/controls",
       "_model_module_version": "1.5.0",
       "_model_name": "DescriptionStyleModel",
       "_view_count": null,
       "_view_module": "@jupyter-widgets/base",
       "_view_module_version": "1.2.0",
       "_view_name": "StyleView",
       "description_width": ""
      }
     },
     "d3fc34466bb840d7b0b7ed3ce0cf0514": {
      "model_module": "@jupyter-widgets/base",
      "model_module_version": "1.2.0",
      "model_name": "LayoutModel",
      "state": {
       "_model_module": "@jupyter-widgets/base",
       "_model_module_version": "1.2.0",
       "_model_name": "LayoutModel",
       "_view_count": null,
       "_view_module": "@jupyter-widgets/base",
       "_view_module_version": "1.2.0",
       "_view_name": "LayoutView",
       "align_content": null,
       "align_items": null,
       "align_self": null,
       "border": null,
       "bottom": null,
       "display": null,
       "flex": null,
       "flex_flow": null,
       "grid_area": null,
       "grid_auto_columns": null,
       "grid_auto_flow": null,
       "grid_auto_rows": null,
       "grid_column": null,
       "grid_gap": null,
       "grid_row": null,
       "grid_template_areas": null,
       "grid_template_columns": null,
       "grid_template_rows": null,
       "height": null,
       "justify_content": null,
       "justify_items": null,
       "left": null,
       "margin": null,
       "max_height": null,
       "max_width": null,
       "min_height": null,
       "min_width": null,
       "object_fit": null,
       "object_position": null,
       "order": null,
       "overflow": null,
       "overflow_x": null,
       "overflow_y": null,
       "padding": null,
       "right": null,
       "top": null,
       "visibility": null,
       "width": null
      }
     },
     "d4a9d58c0a3b40f391d7eaba5568a475": {
      "model_module": "@jupyter-widgets/controls",
      "model_module_version": "1.5.0",
      "model_name": "DescriptionStyleModel",
      "state": {
       "_model_module": "@jupyter-widgets/controls",
       "_model_module_version": "1.5.0",
       "_model_name": "DescriptionStyleModel",
       "_view_count": null,
       "_view_module": "@jupyter-widgets/base",
       "_view_module_version": "1.2.0",
       "_view_name": "StyleView",
       "description_width": ""
      }
     },
     "d7990787bc194e73ab464f610088bdfa": {
      "model_module": "@jupyter-widgets/controls",
      "model_module_version": "1.5.0",
      "model_name": "DescriptionStyleModel",
      "state": {
       "_model_module": "@jupyter-widgets/controls",
       "_model_module_version": "1.5.0",
       "_model_name": "DescriptionStyleModel",
       "_view_count": null,
       "_view_module": "@jupyter-widgets/base",
       "_view_module_version": "1.2.0",
       "_view_name": "StyleView",
       "description_width": ""
      }
     },
     "d807e8146dfe4f91a97f3298ba9a6259": {
      "model_module": "@jupyter-widgets/controls",
      "model_module_version": "1.5.0",
      "model_name": "HBoxModel",
      "state": {
       "_dom_classes": [],
       "_model_module": "@jupyter-widgets/controls",
       "_model_module_version": "1.5.0",
       "_model_name": "HBoxModel",
       "_view_count": null,
       "_view_module": "@jupyter-widgets/controls",
       "_view_module_version": "1.5.0",
       "_view_name": "HBoxView",
       "box_style": "",
       "children": [
        "IPY_MODEL_97042c74a85743cc84321235976ec0e7",
        "IPY_MODEL_4b92298139c0452e84843a47e3b021fb"
       ],
       "layout": "IPY_MODEL_1b67758cbd45435088b39198158d40a3"
      }
     },
     "db564fccaf3b4247bca0a383b6e9df85": {
      "model_module": "@jupyter-widgets/controls",
      "model_module_version": "1.5.0",
      "model_name": "ProgressStyleModel",
      "state": {
       "_model_module": "@jupyter-widgets/controls",
       "_model_module_version": "1.5.0",
       "_model_name": "ProgressStyleModel",
       "_view_count": null,
       "_view_module": "@jupyter-widgets/base",
       "_view_module_version": "1.2.0",
       "_view_name": "StyleView",
       "bar_color": null,
       "description_width": "initial"
      }
     },
     "e644087c03ab4c22915c148fc294ace4": {
      "model_module": "@jupyter-widgets/controls",
      "model_module_version": "1.5.0",
      "model_name": "HTMLModel",
      "state": {
       "_dom_classes": [],
       "_model_module": "@jupyter-widgets/controls",
       "_model_module_version": "1.5.0",
       "_model_name": "HTMLModel",
       "_view_count": null,
       "_view_module": "@jupyter-widgets/controls",
       "_view_module_version": "1.5.0",
       "_view_name": "HTMLView",
       "description": "",
       "description_tooltip": null,
       "layout": "IPY_MODEL_d3fc34466bb840d7b0b7ed3ce0cf0514",
       "placeholder": "​",
       "style": "IPY_MODEL_8afa1def59984a90afe40857bccdadc9",
       "value": " 1258/1258 [00:54&lt;00:00, 23.04it/s]"
      }
     },
     "f0ce1dece7ff41f9965330330e887f62": {
      "model_module": "@jupyter-widgets/base",
      "model_module_version": "1.2.0",
      "model_name": "LayoutModel",
      "state": {
       "_model_module": "@jupyter-widgets/base",
       "_model_module_version": "1.2.0",
       "_model_name": "LayoutModel",
       "_view_count": null,
       "_view_module": "@jupyter-widgets/base",
       "_view_module_version": "1.2.0",
       "_view_name": "LayoutView",
       "align_content": null,
       "align_items": null,
       "align_self": null,
       "border": null,
       "bottom": null,
       "display": null,
       "flex": null,
       "flex_flow": null,
       "grid_area": null,
       "grid_auto_columns": null,
       "grid_auto_flow": null,
       "grid_auto_rows": null,
       "grid_column": null,
       "grid_gap": null,
       "grid_row": null,
       "grid_template_areas": null,
       "grid_template_columns": null,
       "grid_template_rows": null,
       "height": null,
       "justify_content": null,
       "justify_items": null,
       "left": null,
       "margin": null,
       "max_height": null,
       "max_width": null,
       "min_height": null,
       "min_width": null,
       "object_fit": null,
       "object_position": null,
       "order": null,
       "overflow": null,
       "overflow_x": null,
       "overflow_y": null,
       "padding": null,
       "right": null,
       "top": null,
       "visibility": null,
       "width": null
      }
     }
    },
    "version_major": 2,
    "version_minor": 0
   }
  }
 },
 "nbformat": 4,
 "nbformat_minor": 1
}
